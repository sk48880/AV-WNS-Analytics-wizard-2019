{
  "nbformat": 4,
  "nbformat_minor": 0,
  "metadata": {
    "colab": {
      "name": "WNS Analytics Wizard - Click through rate prediction.ipynb",
      "version": "0.3.2",
      "provenance": [],
      "include_colab_link": true
    },
    "kernelspec": {
      "name": "python3",
      "display_name": "Python 3"
    },
    "accelerator": "GPU"
  },
  "cells": [
    {
      "cell_type": "markdown",
      "metadata": {
        "id": "view-in-github",
        "colab_type": "text"
      },
      "source": [
        "<a href=\"https://colab.research.google.com/github/sk48880/AV-WNS-Analytics-wizard-2019/blob/master/WNS_Analytics_Wizard_Click_through_rate_prediction.ipynb\" target=\"_parent\"><img src=\"https://colab.research.google.com/assets/colab-badge.svg\" alt=\"Open In Colab\"/></a>"
      ]
    },
    {
      "cell_type": "markdown",
      "metadata": {
        "id": "ieZICgS6kECZ",
        "colab_type": "text"
      },
      "source": [
        "## Problem Statement\n",
        "\n",
        "The task is to predict click probability i.e. probability of user clicking the ad which is shown to them on the partner websites for the next 7 days on the basis of historical view log data, ad impression data and user data.\n",
        "\n",
        "#### Evaluation Metric\n",
        "Submissions are evaluated on area under the ROC curve between the predicted probability and the observed target.\n",
        "\n",
        "### Key points\n",
        "- The E-commerce company sells multiple products on its platform\n",
        "User behavior is recorded in the logs\n",
        "- View log of users is for around 22 days (15th Oct 2018 - 5th Nov 2018)\n",
        "- Train data has the impression logs for 29 days (15th Nov 2018 – 13th Dec 2018) along with the label which specifies whether the ad is clicked or not\n",
        "- Test data have impression logs for 7 days (12th Dec 2018 – 18th Dec 2018) without the labels\n",
        "- 12th and 13th Dec are overlap between train and test dataset. We can put a lookup to see if the user_id matches then, for those we can input the values\n",
        "- The product description is collected from the Zbay website"
      ]
    },
    {
      "cell_type": "markdown",
      "metadata": {
        "id": "I7FPPzMEkcri",
        "colab_type": "text"
      },
      "source": [
        "## Load Libraries"
      ]
    },
    {
      "cell_type": "code",
      "metadata": {
        "id": "st-R0H7PkeXB",
        "colab_type": "code",
        "colab": {}
      },
      "source": [
        "import numpy as np\n",
        "import pandas as pd\n",
        "\n",
        "import matplotlib.pyplot as plt\n",
        "import seaborn as sns\n",
        "%matplotlib inline\n",
        "\n",
        "import warnings\n",
        "warnings.filterwarnings('ignore')\n",
        "\n",
        "import os\n",
        "import datetime\n",
        "\n",
        "import gc\n",
        "import itertools\n",
        "\n",
        "import statsmodels\n",
        "import statsmodels.api as sm\n",
        "from statsmodels.formula.api import ols"
      ],
      "execution_count": 0,
      "outputs": []
    },
    {
      "cell_type": "markdown",
      "metadata": {
        "id": "veWyxw9MlCku",
        "colab_type": "text"
      },
      "source": [
        "## Load Dataset"
      ]
    },
    {
      "cell_type": "code",
      "metadata": {
        "id": "LjirJz-6nCiB",
        "colab_type": "code",
        "outputId": "3b1a9d71-e0e2-40c1-8395-d77e4730364f",
        "colab": {
          "base_uri": "https://localhost:8080/",
          "height": 54
        }
      },
      "source": [
        "# Code to read csv file into Colaboratory:\n",
        "!pip install -U -q PyDrive\n",
        "from pydrive.auth import GoogleAuth\n",
        "from pydrive.drive import GoogleDrive\n",
        "from google.colab import auth\n",
        "from oauth2client.client import GoogleCredentials\n",
        "\n",
        "# Authenticate and create the PyDrive client.\n",
        "auth.authenticate_user()\n",
        "gauth = GoogleAuth()\n",
        "gauth.credentials = GoogleCredentials.get_application_default()\n",
        "drive = GoogleDrive(gauth)"
      ],
      "execution_count": 2,
      "outputs": [
        {
          "output_type": "stream",
          "text": [
            "\u001b[?25l\r\u001b[K     |▎                               | 10kB 17.2MB/s eta 0:00:01\r\u001b[K     |▋                               | 20kB 1.8MB/s eta 0:00:01\r\u001b[K     |█                               | 30kB 2.7MB/s eta 0:00:01\r\u001b[K     |█▎                              | 40kB 1.7MB/s eta 0:00:01\r\u001b[K     |█▋                              | 51kB 2.1MB/s eta 0:00:01\r\u001b[K     |██                              | 61kB 2.6MB/s eta 0:00:01\r\u001b[K     |██▎                             | 71kB 3.0MB/s eta 0:00:01\r\u001b[K     |██▋                             | 81kB 3.4MB/s eta 0:00:01\r\u001b[K     |███                             | 92kB 3.8MB/s eta 0:00:01\r\u001b[K     |███▎                            | 102kB 2.9MB/s eta 0:00:01\r\u001b[K     |███▋                            | 112kB 2.9MB/s eta 0:00:01\r\u001b[K     |████                            | 122kB 2.9MB/s eta 0:00:01\r\u001b[K     |████▎                           | 133kB 2.9MB/s eta 0:00:01\r\u001b[K     |████▋                           | 143kB 2.9MB/s eta 0:00:01\r\u001b[K     |█████                           | 153kB 2.9MB/s eta 0:00:01\r\u001b[K     |█████▎                          | 163kB 2.9MB/s eta 0:00:01\r\u001b[K     |█████▋                          | 174kB 2.9MB/s eta 0:00:01\r\u001b[K     |██████                          | 184kB 2.9MB/s eta 0:00:01\r\u001b[K     |██████▎                         | 194kB 2.9MB/s eta 0:00:01\r\u001b[K     |██████▋                         | 204kB 2.9MB/s eta 0:00:01\r\u001b[K     |███████                         | 215kB 2.9MB/s eta 0:00:01\r\u001b[K     |███████▎                        | 225kB 2.9MB/s eta 0:00:01\r\u001b[K     |███████▋                        | 235kB 2.9MB/s eta 0:00:01\r\u001b[K     |████████                        | 245kB 2.9MB/s eta 0:00:01\r\u001b[K     |████████▎                       | 256kB 2.9MB/s eta 0:00:01\r\u001b[K     |████████▋                       | 266kB 2.9MB/s eta 0:00:01\r\u001b[K     |█████████                       | 276kB 2.9MB/s eta 0:00:01\r\u001b[K     |█████████▎                      | 286kB 2.9MB/s eta 0:00:01\r\u001b[K     |█████████▋                      | 296kB 2.9MB/s eta 0:00:01\r\u001b[K     |██████████                      | 307kB 2.9MB/s eta 0:00:01\r\u001b[K     |██████████▎                     | 317kB 2.9MB/s eta 0:00:01\r\u001b[K     |██████████▋                     | 327kB 2.9MB/s eta 0:00:01\r\u001b[K     |███████████                     | 337kB 2.9MB/s eta 0:00:01\r\u001b[K     |███████████▎                    | 348kB 2.9MB/s eta 0:00:01\r\u001b[K     |███████████▋                    | 358kB 2.9MB/s eta 0:00:01\r\u001b[K     |████████████                    | 368kB 2.9MB/s eta 0:00:01\r\u001b[K     |████████████▎                   | 378kB 2.9MB/s eta 0:00:01\r\u001b[K     |████████████▋                   | 389kB 2.9MB/s eta 0:00:01\r\u001b[K     |█████████████                   | 399kB 2.9MB/s eta 0:00:01\r\u001b[K     |█████████████▎                  | 409kB 2.9MB/s eta 0:00:01\r\u001b[K     |█████████████▋                  | 419kB 2.9MB/s eta 0:00:01\r\u001b[K     |██████████████                  | 430kB 2.9MB/s eta 0:00:01\r\u001b[K     |██████████████▎                 | 440kB 2.9MB/s eta 0:00:01\r\u001b[K     |██████████████▋                 | 450kB 2.9MB/s eta 0:00:01\r\u001b[K     |███████████████                 | 460kB 2.9MB/s eta 0:00:01\r\u001b[K     |███████████████▎                | 471kB 2.9MB/s eta 0:00:01\r\u001b[K     |███████████████▋                | 481kB 2.9MB/s eta 0:00:01\r\u001b[K     |████████████████                | 491kB 2.9MB/s eta 0:00:01\r\u001b[K     |████████████████▎               | 501kB 2.9MB/s eta 0:00:01\r\u001b[K     |████████████████▋               | 512kB 2.9MB/s eta 0:00:01\r\u001b[K     |█████████████████               | 522kB 2.9MB/s eta 0:00:01\r\u001b[K     |█████████████████▎              | 532kB 2.9MB/s eta 0:00:01\r\u001b[K     |█████████████████▋              | 542kB 2.9MB/s eta 0:00:01\r\u001b[K     |██████████████████              | 552kB 2.9MB/s eta 0:00:01\r\u001b[K     |██████████████████▎             | 563kB 2.9MB/s eta 0:00:01\r\u001b[K     |██████████████████▋             | 573kB 2.9MB/s eta 0:00:01\r\u001b[K     |███████████████████             | 583kB 2.9MB/s eta 0:00:01\r\u001b[K     |███████████████████▎            | 593kB 2.9MB/s eta 0:00:01\r\u001b[K     |███████████████████▋            | 604kB 2.9MB/s eta 0:00:01\r\u001b[K     |████████████████████            | 614kB 2.9MB/s eta 0:00:01\r\u001b[K     |████████████████████▎           | 624kB 2.9MB/s eta 0:00:01\r\u001b[K     |████████████████████▋           | 634kB 2.9MB/s eta 0:00:01\r\u001b[K     |█████████████████████           | 645kB 2.9MB/s eta 0:00:01\r\u001b[K     |█████████████████████▎          | 655kB 2.9MB/s eta 0:00:01\r\u001b[K     |█████████████████████▋          | 665kB 2.9MB/s eta 0:00:01\r\u001b[K     |██████████████████████          | 675kB 2.9MB/s eta 0:00:01\r\u001b[K     |██████████████████████▎         | 686kB 2.9MB/s eta 0:00:01\r\u001b[K     |██████████████████████▋         | 696kB 2.9MB/s eta 0:00:01\r\u001b[K     |███████████████████████         | 706kB 2.9MB/s eta 0:00:01\r\u001b[K     |███████████████████████▎        | 716kB 2.9MB/s eta 0:00:01\r\u001b[K     |███████████████████████▋        | 727kB 2.9MB/s eta 0:00:01\r\u001b[K     |████████████████████████        | 737kB 2.9MB/s eta 0:00:01\r\u001b[K     |████████████████████████▎       | 747kB 2.9MB/s eta 0:00:01\r\u001b[K     |████████████████████████▋       | 757kB 2.9MB/s eta 0:00:01\r\u001b[K     |████████████████████████▉       | 768kB 2.9MB/s eta 0:00:01\r\u001b[K     |█████████████████████████▏      | 778kB 2.9MB/s eta 0:00:01\r\u001b[K     |█████████████████████████▌      | 788kB 2.9MB/s eta 0:00:01\r\u001b[K     |█████████████████████████▉      | 798kB 2.9MB/s eta 0:00:01\r\u001b[K     |██████████████████████████▏     | 808kB 2.9MB/s eta 0:00:01\r\u001b[K     |██████████████████████████▌     | 819kB 2.9MB/s eta 0:00:01\r\u001b[K     |██████████████████████████▉     | 829kB 2.9MB/s eta 0:00:01\r\u001b[K     |███████████████████████████▏    | 839kB 2.9MB/s eta 0:00:01\r\u001b[K     |███████████████████████████▌    | 849kB 2.9MB/s eta 0:00:01\r\u001b[K     |███████████████████████████▉    | 860kB 2.9MB/s eta 0:00:01\r\u001b[K     |████████████████████████████▏   | 870kB 2.9MB/s eta 0:00:01\r\u001b[K     |████████████████████████████▌   | 880kB 2.9MB/s eta 0:00:01\r\u001b[K     |████████████████████████████▉   | 890kB 2.9MB/s eta 0:00:01\r\u001b[K     |█████████████████████████████▏  | 901kB 2.9MB/s eta 0:00:01\r\u001b[K     |█████████████████████████████▌  | 911kB 2.9MB/s eta 0:00:01\r\u001b[K     |█████████████████████████████▉  | 921kB 2.9MB/s eta 0:00:01\r\u001b[K     |██████████████████████████████▏ | 931kB 2.9MB/s eta 0:00:01\r\u001b[K     |██████████████████████████████▌ | 942kB 2.9MB/s eta 0:00:01\r\u001b[K     |██████████████████████████████▉ | 952kB 2.9MB/s eta 0:00:01\r\u001b[K     |███████████████████████████████▏| 962kB 2.9MB/s eta 0:00:01\r\u001b[K     |███████████████████████████████▌| 972kB 2.9MB/s eta 0:00:01\r\u001b[K     |███████████████████████████████▉| 983kB 2.9MB/s eta 0:00:01\r\u001b[K     |████████████████████████████████| 993kB 2.9MB/s \n",
            "\u001b[?25h  Building wheel for PyDrive (setup.py) ... \u001b[?25l\u001b[?25hdone\n"
          ],
          "name": "stdout"
        }
      ]
    },
    {
      "cell_type": "code",
      "metadata": {
        "id": "_Q19pwnHlEoV",
        "colab_type": "code",
        "outputId": "e8dba168-f564-41e2-fc4e-2aee00ad495c",
        "colab": {
          "base_uri": "https://localhost:8080/",
          "height": 108
        }
      },
      "source": [
        "link = 'https://drive.google.com/open?id=1tL9tqvUsClU7pCH8d-nvjfzmVZOdBuCh' # The shareable link\n",
        "fluff, id = link.split('=')\n",
        "print (id) # Verify that you have everything after '='\n",
        "downloaded = drive.CreateFile({'id':id}) \n",
        "downloaded.GetContentFile('train.csv')  \n",
        "\n",
        "link = 'https://drive.google.com/open?id=165F9lJJJYSPB4yGWyQjDMWCudQHSyTxB' # The shareable link\n",
        "fluff, id = link.split('=')\n",
        "print (id) # Verify that you have everything after '='\n",
        "downloaded = drive.CreateFile({'id':id}) \n",
        "downloaded.GetContentFile('test.csv')  \n",
        "\n",
        "link = 'https://drive.google.com/open?id=1cXIyr5cdNvc3u36qCjIhtNjTPjv4lDJc' # The shareable link\n",
        "fluff, id = link.split('=')\n",
        "print (id) # Verify that you have everything after '='\n",
        "downloaded = drive.CreateFile({'id':id}) \n",
        "downloaded.GetContentFile('sample_submission.csv')  \n",
        "\n",
        "link = 'https://drive.google.com/open?id=1jym6T5H3-TLaz3m1XZ7tA_SIDNIok96d' # The shareable link\n",
        "fluff, id = link.split('=')\n",
        "print (id) # Verify that you have everything after '='\n",
        "downloaded = drive.CreateFile({'id':id}) \n",
        "downloaded.GetContentFile('item_data.csv')  \n",
        "\n",
        "link = 'https://drive.google.com/open?id=1PfXH8UF3jqqAbO-s3LsHtZy1MsFHglyC' # The shareable link\n",
        "fluff, id = link.split('=')\n",
        "print (id) # Verify that you have everything after '='\n",
        "downloaded = drive.CreateFile({'id':id}) \n",
        "downloaded.GetContentFile('view_log.csv')  "
      ],
      "execution_count": 3,
      "outputs": [
        {
          "output_type": "stream",
          "text": [
            "1tL9tqvUsClU7pCH8d-nvjfzmVZOdBuCh\n",
            "165F9lJJJYSPB4yGWyQjDMWCudQHSyTxB\n",
            "1cXIyr5cdNvc3u36qCjIhtNjTPjv4lDJc\n",
            "1jym6T5H3-TLaz3m1XZ7tA_SIDNIok96d\n",
            "1PfXH8UF3jqqAbO-s3LsHtZy1MsFHglyC\n"
          ],
          "name": "stdout"
        }
      ]
    },
    {
      "cell_type": "code",
      "metadata": {
        "id": "GuYF6QkFnBXP",
        "colab_type": "code",
        "colab": {}
      },
      "source": [
        "train = pd.read_csv('/content/train.csv')\n",
        "test = pd.read_csv('/content/test.csv')\n",
        "item = pd.read_csv('/content/item_data.csv')\n",
        "log = pd.read_csv('/content/view_log.csv')"
      ],
      "execution_count": 0,
      "outputs": []
    },
    {
      "cell_type": "markdown",
      "metadata": {
        "id": "IiNm5JnHrbnp",
        "colab_type": "text"
      },
      "source": [
        "## Data Exploration"
      ]
    },
    {
      "cell_type": "code",
      "metadata": {
        "id": "w-936ke0oCGn",
        "colab_type": "code",
        "outputId": "1b0d35c4-3948-45a1-ff05-e9bcb569d88f",
        "colab": {
          "base_uri": "https://localhost:8080/",
          "height": 138
        }
      },
      "source": [
        "train.head(3)"
      ],
      "execution_count": 5,
      "outputs": [
        {
          "output_type": "execute_result",
          "data": {
            "text/html": [
              "<div>\n",
              "<style scoped>\n",
              "    .dataframe tbody tr th:only-of-type {\n",
              "        vertical-align: middle;\n",
              "    }\n",
              "\n",
              "    .dataframe tbody tr th {\n",
              "        vertical-align: top;\n",
              "    }\n",
              "\n",
              "    .dataframe thead th {\n",
              "        text-align: right;\n",
              "    }\n",
              "</style>\n",
              "<table border=\"1\" class=\"dataframe\">\n",
              "  <thead>\n",
              "    <tr style=\"text-align: right;\">\n",
              "      <th></th>\n",
              "      <th>impression_id</th>\n",
              "      <th>impression_time</th>\n",
              "      <th>user_id</th>\n",
              "      <th>app_code</th>\n",
              "      <th>os_version</th>\n",
              "      <th>is_4G</th>\n",
              "      <th>is_click</th>\n",
              "    </tr>\n",
              "  </thead>\n",
              "  <tbody>\n",
              "    <tr>\n",
              "      <th>0</th>\n",
              "      <td>c4ca4238a0b923820dcc509a6f75849b</td>\n",
              "      <td>2018-11-15 00:00:00</td>\n",
              "      <td>87862</td>\n",
              "      <td>422</td>\n",
              "      <td>old</td>\n",
              "      <td>0</td>\n",
              "      <td>0</td>\n",
              "    </tr>\n",
              "    <tr>\n",
              "      <th>1</th>\n",
              "      <td>45c48cce2e2d7fbdea1afc51c7c6ad26</td>\n",
              "      <td>2018-11-15 00:01:00</td>\n",
              "      <td>63410</td>\n",
              "      <td>467</td>\n",
              "      <td>latest</td>\n",
              "      <td>1</td>\n",
              "      <td>1</td>\n",
              "    </tr>\n",
              "    <tr>\n",
              "      <th>2</th>\n",
              "      <td>70efdf2ec9b086079795c442636b55fb</td>\n",
              "      <td>2018-11-15 00:02:00</td>\n",
              "      <td>71748</td>\n",
              "      <td>259</td>\n",
              "      <td>intermediate</td>\n",
              "      <td>1</td>\n",
              "      <td>0</td>\n",
              "    </tr>\n",
              "  </tbody>\n",
              "</table>\n",
              "</div>"
            ],
            "text/plain": [
              "                      impression_id      impression_time  ...  is_4G  is_click\n",
              "0  c4ca4238a0b923820dcc509a6f75849b  2018-11-15 00:00:00  ...      0         0\n",
              "1  45c48cce2e2d7fbdea1afc51c7c6ad26  2018-11-15 00:01:00  ...      1         1\n",
              "2  70efdf2ec9b086079795c442636b55fb  2018-11-15 00:02:00  ...      1         0\n",
              "\n",
              "[3 rows x 7 columns]"
            ]
          },
          "metadata": {
            "tags": []
          },
          "execution_count": 5
        }
      ]
    },
    {
      "cell_type": "code",
      "metadata": {
        "id": "K9Kjd99yobW2",
        "colab_type": "code",
        "outputId": "3ccdd18a-af93-414b-dbeb-a91cdc9a562c",
        "colab": {
          "base_uri": "https://localhost:8080/",
          "height": 138
        }
      },
      "source": [
        "log.head(3)"
      ],
      "execution_count": 6,
      "outputs": [
        {
          "output_type": "execute_result",
          "data": {
            "text/html": [
              "<div>\n",
              "<style scoped>\n",
              "    .dataframe tbody tr th:only-of-type {\n",
              "        vertical-align: middle;\n",
              "    }\n",
              "\n",
              "    .dataframe tbody tr th {\n",
              "        vertical-align: top;\n",
              "    }\n",
              "\n",
              "    .dataframe thead th {\n",
              "        text-align: right;\n",
              "    }\n",
              "</style>\n",
              "<table border=\"1\" class=\"dataframe\">\n",
              "  <thead>\n",
              "    <tr style=\"text-align: right;\">\n",
              "      <th></th>\n",
              "      <th>server_time</th>\n",
              "      <th>device_type</th>\n",
              "      <th>session_id</th>\n",
              "      <th>user_id</th>\n",
              "      <th>item_id</th>\n",
              "    </tr>\n",
              "  </thead>\n",
              "  <tbody>\n",
              "    <tr>\n",
              "      <th>0</th>\n",
              "      <td>2018-10-15 08:58:00</td>\n",
              "      <td>android</td>\n",
              "      <td>112333</td>\n",
              "      <td>4557</td>\n",
              "      <td>32970</td>\n",
              "    </tr>\n",
              "    <tr>\n",
              "      <th>1</th>\n",
              "      <td>2018-10-15 08:58:00</td>\n",
              "      <td>android</td>\n",
              "      <td>503590</td>\n",
              "      <td>74788</td>\n",
              "      <td>7640</td>\n",
              "    </tr>\n",
              "    <tr>\n",
              "      <th>2</th>\n",
              "      <td>2018-10-15 08:58:00</td>\n",
              "      <td>android</td>\n",
              "      <td>573960</td>\n",
              "      <td>23628</td>\n",
              "      <td>128855</td>\n",
              "    </tr>\n",
              "  </tbody>\n",
              "</table>\n",
              "</div>"
            ],
            "text/plain": [
              "           server_time device_type  session_id  user_id  item_id\n",
              "0  2018-10-15 08:58:00     android      112333     4557    32970\n",
              "1  2018-10-15 08:58:00     android      503590    74788     7640\n",
              "2  2018-10-15 08:58:00     android      573960    23628   128855"
            ]
          },
          "metadata": {
            "tags": []
          },
          "execution_count": 6
        }
      ]
    },
    {
      "cell_type": "code",
      "metadata": {
        "id": "CZCEFfTCrDje",
        "colab_type": "code",
        "outputId": "d28477d8-d760-4001-cd81-2cefc5ebea53",
        "colab": {
          "base_uri": "https://localhost:8080/",
          "height": 108
        }
      },
      "source": [
        "item.head(2)"
      ],
      "execution_count": 7,
      "outputs": [
        {
          "output_type": "execute_result",
          "data": {
            "text/html": [
              "<div>\n",
              "<style scoped>\n",
              "    .dataframe tbody tr th:only-of-type {\n",
              "        vertical-align: middle;\n",
              "    }\n",
              "\n",
              "    .dataframe tbody tr th {\n",
              "        vertical-align: top;\n",
              "    }\n",
              "\n",
              "    .dataframe thead th {\n",
              "        text-align: right;\n",
              "    }\n",
              "</style>\n",
              "<table border=\"1\" class=\"dataframe\">\n",
              "  <thead>\n",
              "    <tr style=\"text-align: right;\">\n",
              "      <th></th>\n",
              "      <th>item_id</th>\n",
              "      <th>item_price</th>\n",
              "      <th>category_1</th>\n",
              "      <th>category_2</th>\n",
              "      <th>category_3</th>\n",
              "      <th>product_type</th>\n",
              "    </tr>\n",
              "  </thead>\n",
              "  <tbody>\n",
              "    <tr>\n",
              "      <th>0</th>\n",
              "      <td>26880</td>\n",
              "      <td>4602</td>\n",
              "      <td>11</td>\n",
              "      <td>35</td>\n",
              "      <td>20</td>\n",
              "      <td>3040</td>\n",
              "    </tr>\n",
              "    <tr>\n",
              "      <th>1</th>\n",
              "      <td>54939</td>\n",
              "      <td>3513</td>\n",
              "      <td>12</td>\n",
              "      <td>57</td>\n",
              "      <td>85</td>\n",
              "      <td>6822</td>\n",
              "    </tr>\n",
              "  </tbody>\n",
              "</table>\n",
              "</div>"
            ],
            "text/plain": [
              "   item_id  item_price  category_1  category_2  category_3  product_type\n",
              "0    26880        4602          11          35          20          3040\n",
              "1    54939        3513          12          57          85          6822"
            ]
          },
          "metadata": {
            "tags": []
          },
          "execution_count": 7
        }
      ]
    },
    {
      "cell_type": "code",
      "metadata": {
        "id": "Ni5ZvlK9rFGs",
        "colab_type": "code",
        "outputId": "05f63c6b-8fa3-423f-bf6d-81f2ee878989",
        "colab": {
          "base_uri": "https://localhost:8080/",
          "height": 145
        }
      },
      "source": [
        "print(\"shape of train data\",train.shape)\n",
        "print(\"===============================\")\n",
        "print(\"shape of log data\",log.shape)\n",
        "print(\"===============================\")\n",
        "print(\"shape of item data\",item.shape)\n",
        "print(\"===============================\")\n",
        "print(\"shape of train data\",test.shape)"
      ],
      "execution_count": 8,
      "outputs": [
        {
          "output_type": "stream",
          "text": [
            "shape of train data (237609, 7)\n",
            "===============================\n",
            "shape of log data (3118622, 5)\n",
            "===============================\n",
            "shape of item data (132761, 6)\n",
            "===============================\n",
            "shape of train data (90675, 6)\n"
          ],
          "name": "stdout"
        }
      ]
    },
    {
      "cell_type": "markdown",
      "metadata": {
        "id": "FA7u77Kmrq9l",
        "colab_type": "text"
      },
      "source": [
        "### Variable Types\n",
        "- impression_id : Id can be ignored (which ad is driving more clicks) -237609 unique ads\n",
        "- user_id : Id can be ignored (Is a repetitive users who isn't clicking for a particular item? or, is there any user who is always clicking but not buying an item?) - 74723 unique users\n",
        "- session_id : Id can be ignored\n",
        "- item_id : Id can be ignored (which item is getting more clicks?) - 126708 unique products\n",
        "- app_code : Categorical (490 categories) - publisher id (which publisher is driving more traffic?)\n",
        "\n",
        "-----------------------------------------------------------------------\n",
        "- impression_time : DateTime - Can be used for Day of week, Time of day analysis\n",
        "- os_version : Categorical (3 categories)\n",
        "- is_4G : Categorical (2 categories)\n",
        "- server_time : Timestamp of the log\n",
        "- device_type : Categorical (3 categories)\n",
        "- item_price : Continuous (Numerical)\n",
        "- category_1 : Categorical (17 categories)\n",
        "- category_2 : Categorical (79 categories)\n",
        "- category_3 : Categorical (335 categories)\n",
        "- product_type : Categorical (7959 categories)\n",
        "- is_click : Categorical (Target Variable)\n",
        "### Can be ignored\n",
        "- impression_id : Id can be ignored\n",
        "- user_id : Id can be ignored\n",
        "- session_id : Id can be ignored\n",
        "- item_id : Id can be ignored\n",
        "- app_code : Categorical (490 categories) - publisher id - It would have be better if publisher category was given rather than publisher id"
      ]
    },
    {
      "cell_type": "code",
      "metadata": {
        "id": "CKi9cqCjrk8c",
        "colab_type": "code",
        "outputId": "24b29145-595e-43da-e20d-815087c33a28",
        "colab": {
          "base_uri": "https://localhost:8080/",
          "height": 599
        }
      },
      "source": [
        "print(\"Number of categories in app_code\")\n",
        "print(train[\"app_code\"].nunique())\n",
        "print(\"==================================================================\")\n",
        "print(\"Number of categories in os_version\")\n",
        "print(train[\"os_version\"].nunique())\n",
        "print(\"==================================================================\")\n",
        "print(\"Number of categories in is_4G\")\n",
        "print(train[\"is_4G\"].nunique())\n",
        "print(\"==================================================================\")\n",
        "print(\"Number of categories in device_type\")\n",
        "print(log[\"device_type\"].nunique())\n",
        "print(\"==================================================================\")\n",
        "print(\"Number of categories in category_1\")\n",
        "print(item[\"category_1\"].nunique())\n",
        "print(\"==================================================================\")\n",
        "print(\"Number of categories in category_2\")\n",
        "print(item[\"category_2\"].nunique())\n",
        "print(\"==================================================================\")\n",
        "print(\"Number of categories in category_3\")\n",
        "print(item[\"category_3\"].nunique())\n",
        "print(\"==================================================================\")\n",
        "print(\"Number of categories in product_type\")\n",
        "print(item[\"product_type\"].nunique())\n",
        "print(\"==================================================================\")\n",
        "print(\"Number of categories in impression_id\")\n",
        "print(train[\"impression_id\"].nunique())\n",
        "print(\"==================================================================\")\n",
        "print(\"Number of categories in user_id\")\n",
        "print(train[\"user_id\"].nunique())\n",
        "print(\"==================================================================\")\n",
        "print(\"Number of categories in item_id\")\n",
        "print(log[\"item_id\"].nunique())"
      ],
      "execution_count": 9,
      "outputs": [
        {
          "output_type": "stream",
          "text": [
            "Number of categories in app_code\n",
            "490\n",
            "==================================================================\n",
            "Number of categories in os_version\n",
            "3\n",
            "==================================================================\n",
            "Number of categories in is_4G\n",
            "2\n",
            "==================================================================\n",
            "Number of categories in device_type\n",
            "3\n",
            "==================================================================\n",
            "Number of categories in category_1\n",
            "17\n",
            "==================================================================\n",
            "Number of categories in category_2\n",
            "79\n",
            "==================================================================\n",
            "Number of categories in category_3\n",
            "335\n",
            "==================================================================\n",
            "Number of categories in product_type\n",
            "7959\n",
            "==================================================================\n",
            "Number of categories in impression_id\n",
            "237609\n",
            "==================================================================\n",
            "Number of categories in user_id\n",
            "74723\n",
            "==================================================================\n",
            "Number of categories in item_id\n",
            "126708\n"
          ],
          "name": "stdout"
        }
      ]
    },
    {
      "cell_type": "code",
      "metadata": {
        "id": "a5pOutm2sWGQ",
        "colab_type": "code",
        "outputId": "3130a1c7-054a-40bb-88e8-fa2f0b5aa315",
        "colab": {
          "base_uri": "https://localhost:8080/",
          "height": 163
        }
      },
      "source": [
        "print(\"Categories in os_version\")\n",
        "print(train[\"os_version\"].unique())\n",
        "print(\"==================================================================\")\n",
        "print(\"Categories in is_4G\")\n",
        "print(train[\"is_4G\"].unique())\n",
        "print(\"==================================================================\")\n",
        "print(\"Categories in device_type\")\n",
        "print(log[\"device_type\"].unique())"
      ],
      "execution_count": 10,
      "outputs": [
        {
          "output_type": "stream",
          "text": [
            "Categories in os_version\n",
            "['old' 'latest' 'intermediate']\n",
            "==================================================================\n",
            "Categories in is_4G\n",
            "[0 1]\n",
            "==================================================================\n",
            "Categories in device_type\n",
            "['android' 'iphone' 'web']\n"
          ],
          "name": "stdout"
        }
      ]
    },
    {
      "cell_type": "code",
      "metadata": {
        "id": "0HnWn9ZAsZ08",
        "colab_type": "code",
        "colab": {}
      },
      "source": [
        "## Casting the timestamp to date format\n",
        "train['impression_time'] = pd.to_datetime(train['impression_time'], format='%Y-%m-%d %H:%M:%S')\n",
        "test['impression_time'] = pd.to_datetime(test['impression_time'], format='%Y-%m-%d %H:%M:%S')\n",
        "\n",
        "log['server_time'] = pd.to_datetime(log['server_time'], format='%Y-%m-%d %H:%M:%S')"
      ],
      "execution_count": 0,
      "outputs": []
    },
    {
      "cell_type": "code",
      "metadata": {
        "id": "4_eyoTQAs5Mf",
        "colab_type": "code",
        "outputId": "b83898ab-5ac5-4e07-84a4-08ca38e449f9",
        "colab": {
          "base_uri": "https://localhost:8080/",
          "height": 72
        }
      },
      "source": [
        "print(\"Train data starts from: %r and ends till %r\" %(str(train.impression_time.min()),str(train.impression_time.max())))\n",
        "print(\"Test data starts from: %r and ends till %r\" %(str(test.impression_time.min()),str(test.impression_time.max())))\n",
        "\n",
        "print(\"View Log data starts from: %r and ends till %r\" %(str(log.server_time.min()),str(log.server_time.max())))"
      ],
      "execution_count": 12,
      "outputs": [
        {
          "output_type": "stream",
          "text": [
            "Train data starts from: '2018-11-15 00:00:00' and ends till '2018-12-13 07:43:00'\n",
            "Test data starts from: '2018-12-12 00:00:00' and ends till '2018-12-18 23:59:00'\n",
            "View Log data starts from: '2018-10-15 08:58:00' and ends till '2018-12-11 23:59:00'\n"
          ],
          "name": "stdout"
        }
      ]
    },
    {
      "cell_type": "markdown",
      "metadata": {
        "id": "BKzWXg3cy1rR",
        "colab_type": "text"
      },
      "source": [
        "### Missing Values"
      ]
    },
    {
      "cell_type": "code",
      "metadata": {
        "id": "WNAABIWEul9x",
        "colab_type": "code",
        "outputId": "8b78f484-c14c-4717-cd2d-ce95eb5ae3a9",
        "colab": {
          "base_uri": "https://localhost:8080/",
          "height": 654
        }
      },
      "source": [
        "print(\"Missing Values in Train Dataset\")\n",
        "print(train.isna().sum())\n",
        "print(\"==================================================================\")\n",
        "print(\"Missing Values in Log Dataset\")\n",
        "print(log.isna().sum())\n",
        "print(\"==================================================================\")\n",
        "print(\"Missing Values in Item Dataset\")\n",
        "print(item.isna().sum())\n",
        "print(\"==================================================================\")\n",
        "print(\"Missing Values in Test Dataset\")\n",
        "print(test.isna().sum())"
      ],
      "execution_count": 13,
      "outputs": [
        {
          "output_type": "stream",
          "text": [
            "Missing Values in Train Dataset\n",
            "impression_id      0\n",
            "impression_time    0\n",
            "user_id            0\n",
            "app_code           0\n",
            "os_version         0\n",
            "is_4G              0\n",
            "is_click           0\n",
            "dtype: int64\n",
            "==================================================================\n",
            "Missing Values in Log Dataset\n",
            "server_time    0\n",
            "device_type    0\n",
            "session_id     0\n",
            "user_id        0\n",
            "item_id        0\n",
            "dtype: int64\n",
            "==================================================================\n",
            "Missing Values in Item Dataset\n",
            "item_id         0\n",
            "item_price      0\n",
            "category_1      0\n",
            "category_2      0\n",
            "category_3      0\n",
            "product_type    0\n",
            "dtype: int64\n",
            "==================================================================\n",
            "Missing Values in Test Dataset\n",
            "impression_id      0\n",
            "impression_time    0\n",
            "user_id            0\n",
            "app_code           0\n",
            "os_version         0\n",
            "is_4G              0\n",
            "dtype: int64\n"
          ],
          "name": "stdout"
        }
      ]
    },
    {
      "cell_type": "markdown",
      "metadata": {
        "id": "NknWQjTh0Tf3",
        "colab_type": "text"
      },
      "source": [
        "### Target Variable"
      ]
    },
    {
      "cell_type": "code",
      "metadata": {
        "id": "WGdenXR00THT",
        "colab_type": "code",
        "colab": {}
      },
      "source": [
        "# Extract target variable from train set\n",
        "label = train['is_click']"
      ],
      "execution_count": 0,
      "outputs": []
    },
    {
      "cell_type": "code",
      "metadata": {
        "id": "0y8rtgHz0W7e",
        "colab_type": "code",
        "outputId": "dadafb82-a61a-4729-aaa6-8738f094184a",
        "colab": {
          "base_uri": "https://localhost:8080/",
          "height": 35
        }
      },
      "source": [
        "# Check for unique values\n",
        "label.unique()"
      ],
      "execution_count": 15,
      "outputs": [
        {
          "output_type": "execute_result",
          "data": {
            "text/plain": [
              "array([0, 1])"
            ]
          },
          "metadata": {
            "tags": []
          },
          "execution_count": 15
        }
      ]
    },
    {
      "cell_type": "code",
      "metadata": {
        "id": "JPNaCAwS0YCF",
        "colab_type": "code",
        "outputId": "d9d99d9f-9ad9-432c-9514-e9459f70ff5d",
        "colab": {
          "base_uri": "https://localhost:8080/",
          "height": 255
        }
      },
      "source": [
        "# Pie Plot to Visualise the Target Variable\n",
        "label.value_counts().plot.pie(autopct='%1.2f%%')\n",
        "plt.axis('equal')\n",
        "plt.show()"
      ],
      "execution_count": 16,
      "outputs": [
        {
          "output_type": "display_data",
          "data": {
            "image/png": "[encoded data removed]",
            "text/plain": [
              "<Figure size 432x288 with 1 Axes>"
            ]
          },
          "metadata": {
            "tags": []
          }
        }
      ]
    },
    {
      "cell_type": "markdown",
      "metadata": {
        "id": "ATSMJPBL0dZW",
        "colab_type": "text"
      },
      "source": [
        "- In the train dataset only 4.57% of the impressions were clicked"
      ]
    },
    {
      "cell_type": "code",
      "metadata": {
        "id": "SOh7AACP0eLC",
        "colab_type": "code",
        "colab": {}
      },
      "source": [
        "log_final = pd.merge(left= log, right= item, how= 'left', on= 'item_id')"
      ],
      "execution_count": 0,
      "outputs": []
    },
    {
      "cell_type": "code",
      "metadata": {
        "id": "ATho0G4hEwqv",
        "colab_type": "code",
        "colab": {
          "base_uri": "https://localhost:8080/",
          "height": 138
        },
        "outputId": "c811e2e0-3ad7-4121-d21b-74b6197ff41d"
      },
      "source": [
        "log_final.head(3)"
      ],
      "execution_count": 22,
      "outputs": [
        {
          "output_type": "execute_result",
          "data": {
            "text/html": [
              "<div>\n",
              "<style scoped>\n",
              "    .dataframe tbody tr th:only-of-type {\n",
              "        vertical-align: middle;\n",
              "    }\n",
              "\n",
              "    .dataframe tbody tr th {\n",
              "        vertical-align: top;\n",
              "    }\n",
              "\n",
              "    .dataframe thead th {\n",
              "        text-align: right;\n",
              "    }\n",
              "</style>\n",
              "<table border=\"1\" class=\"dataframe\">\n",
              "  <thead>\n",
              "    <tr style=\"text-align: right;\">\n",
              "      <th></th>\n",
              "      <th>server_time</th>\n",
              "      <th>device_type</th>\n",
              "      <th>session_id</th>\n",
              "      <th>user_id</th>\n",
              "      <th>item_id</th>\n",
              "      <th>item_price</th>\n",
              "      <th>category_1</th>\n",
              "      <th>category_2</th>\n",
              "      <th>category_3</th>\n",
              "      <th>product_type</th>\n",
              "    </tr>\n",
              "  </thead>\n",
              "  <tbody>\n",
              "    <tr>\n",
              "      <th>0</th>\n",
              "      <td>2018-10-15 08:58:00</td>\n",
              "      <td>android</td>\n",
              "      <td>112333</td>\n",
              "      <td>4557</td>\n",
              "      <td>32970</td>\n",
              "      <td>54685.0</td>\n",
              "      <td>16.0</td>\n",
              "      <td>56.0</td>\n",
              "      <td>253.0</td>\n",
              "      <td>3184.0</td>\n",
              "    </tr>\n",
              "    <tr>\n",
              "      <th>1</th>\n",
              "      <td>2018-10-15 08:58:00</td>\n",
              "      <td>android</td>\n",
              "      <td>503590</td>\n",
              "      <td>74788</td>\n",
              "      <td>7640</td>\n",
              "      <td>1376.0</td>\n",
              "      <td>7.0</td>\n",
              "      <td>71.0</td>\n",
              "      <td>228.0</td>\n",
              "      <td>545.0</td>\n",
              "    </tr>\n",
              "    <tr>\n",
              "      <th>2</th>\n",
              "      <td>2018-10-15 08:58:00</td>\n",
              "      <td>android</td>\n",
              "      <td>573960</td>\n",
              "      <td>23628</td>\n",
              "      <td>128855</td>\n",
              "      <td>4544.0</td>\n",
              "      <td>4.0</td>\n",
              "      <td>38.0</td>\n",
              "      <td>62.0</td>\n",
              "      <td>5609.0</td>\n",
              "    </tr>\n",
              "  </tbody>\n",
              "</table>\n",
              "</div>"
            ],
            "text/plain": [
              "          server_time device_type  ...  category_3  product_type\n",
              "0 2018-10-15 08:58:00     android  ...       253.0        3184.0\n",
              "1 2018-10-15 08:58:00     android  ...       228.0         545.0\n",
              "2 2018-10-15 08:58:00     android  ...        62.0        5609.0\n",
              "\n",
              "[3 rows x 10 columns]"
            ]
          },
          "metadata": {
            "tags": []
          },
          "execution_count": 22
        }
      ]
    },
    {
      "cell_type": "code",
      "metadata": {
        "id": "WXs1uMHE2aXD",
        "colab_type": "code",
        "colab": {
          "base_uri": "https://localhost:8080/",
          "height": 35
        },
        "outputId": "3c6d31b0-3f3c-41e3-f434-a35ff0c95116"
      },
      "source": [
        "nb_view_hist = log_final.groupby('user_id').count()[['session_id']]\n",
        "nb_view_hist.columns = ['nb_view_hist']\n",
        "train_df = pd.merge(train, nb_view_hist, how= 'left', on= 'user_id')\n",
        "del nb_view_hist\n",
        "gc.collect()"
      ],
      "execution_count": 33,
      "outputs": [
        {
          "output_type": "execute_result",
          "data": {
            "text/plain": [
              "86"
            ]
          },
          "metadata": {
            "tags": []
          },
          "execution_count": 33
        }
      ]
    },
    {
      "cell_type": "code",
      "metadata": {
        "id": "wUh0iEjqGaro",
        "colab_type": "code",
        "colab": {
          "base_uri": "https://localhost:8080/",
          "height": 35
        },
        "outputId": "21f12ba5-d867-476a-f6b4-0b8db521b69a"
      },
      "source": [
        "min_server_time = log_final.groupby('user_id').min()[['server_time']]\n",
        "min_server_time.columns = ['min_server_time']\n",
        "train_df = pd.merge(train_df, min_server_time, how= 'left', on= 'user_id')\n",
        "del min_server_time\n",
        "gc.collect()"
      ],
      "execution_count": 37,
      "outputs": [
        {
          "output_type": "execute_result",
          "data": {
            "text/plain": [
              "154"
            ]
          },
          "metadata": {
            "tags": []
          },
          "execution_count": 37
        }
      ]
    },
    {
      "cell_type": "code",
      "metadata": {
        "id": "NDrlLpa7GlP3",
        "colab_type": "code",
        "colab": {
          "base_uri": "https://localhost:8080/",
          "height": 35
        },
        "outputId": "c2b2256f-4529-4849-bf26-c895c307676e"
      },
      "source": [
        "max_server_time = log_final.groupby('user_id').max()[['server_time']]\n",
        "max_server_time.columns = ['max_server_time']\n",
        "train_df = pd.merge(train_df, max_server_time, how= 'left', on= 'user_id')\n",
        "del max_server_time\n",
        "gc.collect()"
      ],
      "execution_count": 38,
      "outputs": [
        {
          "output_type": "execute_result",
          "data": {
            "text/plain": [
              "161"
            ]
          },
          "metadata": {
            "tags": []
          },
          "execution_count": 38
        }
      ]
    },
    {
      "cell_type": "code",
      "metadata": {
        "id": "2MpYtcfvIOT9",
        "colab_type": "code",
        "colab": {
          "base_uri": "https://localhost:8080/",
          "height": 35
        },
        "outputId": "48f16c33-003a-485b-c772-ca709843d9e4"
      },
      "source": [
        "avg_item_price = log_final.groupby('user_id').mean()[['item_price']]\n",
        "avg_item_price.columns = ['avg_item_price']\n",
        "train_df = pd.merge(train_df, avg_item_price, how= 'left', on= 'user_id')\n",
        "del avg_item_price\n",
        "gc.collect()"
      ],
      "execution_count": 40,
      "outputs": [
        {
          "output_type": "execute_result",
          "data": {
            "text/plain": [
              "160"
            ]
          },
          "metadata": {
            "tags": []
          },
          "execution_count": 40
        }
      ]
    },
    {
      "cell_type": "code",
      "metadata": {
        "id": "6mGnCmpVIwep",
        "colab_type": "code",
        "colab": {}
      },
      "source": [
        ""
      ],
      "execution_count": 0,
      "outputs": []
    },
    {
      "cell_type": "code",
      "metadata": {
        "id": "peRhYO7gGDNP",
        "colab_type": "code",
        "colab": {
          "base_uri": "https://localhost:8080/",
          "height": 305
        },
        "outputId": "998c9bbf-10ab-4c1c-f03f-02141421c130"
      },
      "source": [
        "train_df.head()"
      ],
      "execution_count": 41,
      "outputs": [
        {
          "output_type": "execute_result",
          "data": {
            "text/html": [
              "<div>\n",
              "<style scoped>\n",
              "    .dataframe tbody tr th:only-of-type {\n",
              "        vertical-align: middle;\n",
              "    }\n",
              "\n",
              "    .dataframe tbody tr th {\n",
              "        vertical-align: top;\n",
              "    }\n",
              "\n",
              "    .dataframe thead th {\n",
              "        text-align: right;\n",
              "    }\n",
              "</style>\n",
              "<table border=\"1\" class=\"dataframe\">\n",
              "  <thead>\n",
              "    <tr style=\"text-align: right;\">\n",
              "      <th></th>\n",
              "      <th>impression_id</th>\n",
              "      <th>impression_time</th>\n",
              "      <th>user_id</th>\n",
              "      <th>app_code</th>\n",
              "      <th>os_version</th>\n",
              "      <th>is_4G</th>\n",
              "      <th>is_click</th>\n",
              "      <th>nb_view_hist</th>\n",
              "      <th>min_server_time</th>\n",
              "      <th>max_server_time</th>\n",
              "      <th>avg_item_price</th>\n",
              "    </tr>\n",
              "  </thead>\n",
              "  <tbody>\n",
              "    <tr>\n",
              "      <th>0</th>\n",
              "      <td>c4ca4238a0b923820dcc509a6f75849b</td>\n",
              "      <td>2018-11-15 00:00:00</td>\n",
              "      <td>87862</td>\n",
              "      <td>422</td>\n",
              "      <td>old</td>\n",
              "      <td>0</td>\n",
              "      <td>0</td>\n",
              "      <td>1</td>\n",
              "      <td>2018-10-19 18:11:00</td>\n",
              "      <td>2018-10-19 18:11:00</td>\n",
              "      <td>2350.000000</td>\n",
              "    </tr>\n",
              "    <tr>\n",
              "      <th>1</th>\n",
              "      <td>45c48cce2e2d7fbdea1afc51c7c6ad26</td>\n",
              "      <td>2018-11-15 00:01:00</td>\n",
              "      <td>63410</td>\n",
              "      <td>467</td>\n",
              "      <td>latest</td>\n",
              "      <td>1</td>\n",
              "      <td>1</td>\n",
              "      <td>12</td>\n",
              "      <td>2018-10-21 06:13:00</td>\n",
              "      <td>2018-12-10 20:03:00</td>\n",
              "      <td>4452.833333</td>\n",
              "    </tr>\n",
              "    <tr>\n",
              "      <th>2</th>\n",
              "      <td>70efdf2ec9b086079795c442636b55fb</td>\n",
              "      <td>2018-11-15 00:02:00</td>\n",
              "      <td>71748</td>\n",
              "      <td>259</td>\n",
              "      <td>intermediate</td>\n",
              "      <td>1</td>\n",
              "      <td>0</td>\n",
              "      <td>2</td>\n",
              "      <td>2018-10-23 12:59:00</td>\n",
              "      <td>2018-11-23 12:00:00</td>\n",
              "      <td>1598.500000</td>\n",
              "    </tr>\n",
              "    <tr>\n",
              "      <th>3</th>\n",
              "      <td>8e296a067a37563370ded05f5a3bf3ec</td>\n",
              "      <td>2018-11-15 00:02:00</td>\n",
              "      <td>69209</td>\n",
              "      <td>244</td>\n",
              "      <td>latest</td>\n",
              "      <td>1</td>\n",
              "      <td>0</td>\n",
              "      <td>18</td>\n",
              "      <td>2018-11-11 21:18:00</td>\n",
              "      <td>2018-11-23 16:39:00</td>\n",
              "      <td>9963.388889</td>\n",
              "    </tr>\n",
              "    <tr>\n",
              "      <th>4</th>\n",
              "      <td>182be0c5cdcd5072bb1864cdee4d3d6e</td>\n",
              "      <td>2018-11-15 00:02:00</td>\n",
              "      <td>62873</td>\n",
              "      <td>473</td>\n",
              "      <td>latest</td>\n",
              "      <td>0</td>\n",
              "      <td>0</td>\n",
              "      <td>46</td>\n",
              "      <td>2018-10-18 12:02:00</td>\n",
              "      <td>2018-12-11 22:56:00</td>\n",
              "      <td>8618.934783</td>\n",
              "    </tr>\n",
              "  </tbody>\n",
              "</table>\n",
              "</div>"
            ],
            "text/plain": [
              "                      impression_id  ... avg_item_price\n",
              "0  c4ca4238a0b923820dcc509a6f75849b  ...    2350.000000\n",
              "1  45c48cce2e2d7fbdea1afc51c7c6ad26  ...    4452.833333\n",
              "2  70efdf2ec9b086079795c442636b55fb  ...    1598.500000\n",
              "3  8e296a067a37563370ded05f5a3bf3ec  ...    9963.388889\n",
              "4  182be0c5cdcd5072bb1864cdee4d3d6e  ...    8618.934783\n",
              "\n",
              "[5 rows x 11 columns]"
            ]
          },
          "metadata": {
            "tags": []
          },
          "execution_count": 41
        }
      ]
    },
    {
      "cell_type": "code",
      "metadata": {
        "id": "_KuxC-i9GFLt",
        "colab_type": "code",
        "colab": {}
      },
      "source": [
        ""
      ],
      "execution_count": 0,
      "outputs": []
    },
    {
      "cell_type": "code",
      "metadata": {
        "id": "NwDTobe20ZXc",
        "colab_type": "code",
        "colab": {}
      },
      "source": [
        ""
      ],
      "execution_count": 0,
      "outputs": []
    },
    {
      "cell_type": "code",
      "metadata": {
        "id": "cxqcFMivyzAl",
        "colab_type": "code",
        "colab": {}
      },
      "source": [
        ""
      ],
      "execution_count": 0,
      "outputs": []
    },
    {
      "cell_type": "code",
      "metadata": {
        "id": "NdI-e6dVt8RB",
        "colab_type": "code",
        "colab": {}
      },
      "source": [
        ""
      ],
      "execution_count": 0,
      "outputs": []
    },
    {
      "cell_type": "code",
      "metadata": {
        "id": "GKBvBUbRtrCx",
        "colab_type": "code",
        "colab": {}
      },
      "source": [
        ""
      ],
      "execution_count": 0,
      "outputs": []
    },
    {
      "cell_type": "code",
      "metadata": {
        "id": "8RIV-mbhs_j3",
        "colab_type": "code",
        "colab": {}
      },
      "source": [
        ""
      ],
      "execution_count": 0,
      "outputs": []
    },
    {
      "cell_type": "code",
      "metadata": {
        "id": "wQTvPm-ik_d8",
        "colab_type": "code",
        "colab": {}
      },
      "source": [
        ""
      ],
      "execution_count": 0,
      "outputs": []
    },
    {
      "cell_type": "code",
      "metadata": {
        "id": "kA4Q_ghwkYzR",
        "colab_type": "code",
        "colab": {}
      },
      "source": [
        ""
      ],
      "execution_count": 0,
      "outputs": []
    },
    {
      "cell_type": "code",
      "metadata": {
        "id": "7qZD5c7RkVpl",
        "colab_type": "code",
        "colab": {}
      },
      "source": [
        ""
      ],
      "execution_count": 0,
      "outputs": []
    },
    {
      "cell_type": "code",
      "metadata": {
        "id": "hZgfjGHjkMi2",
        "colab_type": "code",
        "colab": {}
      },
      "source": [
        ""
      ],
      "execution_count": 0,
      "outputs": []
    },
    {
      "cell_type": "code",
      "metadata": {
        "id": "9NH69_nJkFfE",
        "colab_type": "code",
        "colab": {}
      },
      "source": [
        ""
      ],
      "execution_count": 0,
      "outputs": []
    }
  ]
}