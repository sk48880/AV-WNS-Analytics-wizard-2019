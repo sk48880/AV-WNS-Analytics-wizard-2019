{
  "nbformat": 4,
  "nbformat_minor": 0,
  "metadata": {
    "colab": {
      "name": "WNS Analytics Wizard - Click through rate prediction.ipynb",
      "version": "0.3.2",
      "provenance": [],
      "include_colab_link": true
    },
    "kernelspec": {
      "name": "python3",
      "display_name": "Python 3"
    },
    "accelerator": "GPU"
  },
  "cells": [
    {
      "cell_type": "markdown",
      "metadata": {
        "id": "view-in-github",
        "colab_type": "text"
      },
      "source": [
        "<a href=\"https://colab.research.google.com/github/sk48880/AV-WNS-Analytics-wizard-2019/blob/master/WNS_Analytics_Wizard_Click_through_rate_prediction.ipynb\" target=\"_parent\"><img src=\"https://colab.research.google.com/assets/colab-badge.svg\" alt=\"Open In Colab\"/></a>"
      ]
    },
    {
      "cell_type": "markdown",
      "metadata": {
        "id": "ieZICgS6kECZ",
        "colab_type": "text"
      },
      "source": [
        "## Problem Statement\n",
        "\n",
        "The task is to predict click probability i.e. probability of user clicking the ad which is shown to them on the partner websites for the next 7 days on the basis of historical view log data, ad impression data and user data.\n",
        "\n",
        "#### Evaluation Metric\n",
        "Submissions are evaluated on area under the ROC curve between the predicted probability and the observed target.\n",
        "\n",
        "### Key points\n",
        "- The E-commerce company sells multiple products on its platform\n",
        "User behavior is recorded in the logs\n",
        "- View log of users is for around 22 days (15th Oct 2018 - 5th Nov 2018)\n",
        "- Train data has the impression logs for 29 days (15th Nov 2018 – 13th Dec 2018) along with the label which specifies whether the ad is clicked or not\n",
        "- Test data have impression logs for 7 days (12th Dec 2018 – 18th Dec 2018) without the labels\n",
        "- 12th and 13th Dec are overlap between train and test dataset. We can put a lookup to see if the user_id matches then, for those we can input the values\n",
        "- The product description is collected from the Zbay website"
      ]
    },
    {
      "cell_type": "markdown",
      "metadata": {
        "id": "I7FPPzMEkcri",
        "colab_type": "text"
      },
      "source": [
        "## Load Libraries"
      ]
    },
    {
      "cell_type": "code",
      "metadata": {
        "id": "st-R0H7PkeXB",
        "colab_type": "code",
        "colab": {}
      },
      "source": [
        "import numpy as np\n",
        "import pandas as pd\n",
        "\n",
        "import matplotlib.pyplot as plt\n",
        "import seaborn as sns\n",
        "%matplotlib inline\n",
        "\n",
        "import warnings\n",
        "warnings.filterwarnings('ignore')\n",
        "\n",
        "import os\n",
        "import datetime\n",
        "\n",
        "import statsmodels\n",
        "import statsmodels.api as sm\n",
        "from statsmodels.formula.api import ols"
      ],
      "execution_count": 0,
      "outputs": []
    },
    {
      "cell_type": "markdown",
      "metadata": {
        "id": "veWyxw9MlCku",
        "colab_type": "text"
      },
      "source": [
        "## Load Dataset"
      ]
    },
    {
      "cell_type": "code",
      "metadata": {
        "id": "LjirJz-6nCiB",
        "colab_type": "code",
        "colab": {
          "base_uri": "https://localhost:8080/",
          "height": 54
        },
        "outputId": "540b7b4e-e44c-4e44-e775-71e6a557fe76"
      },
      "source": [
        "# Code to read csv file into Colaboratory:\n",
        "!pip install -U -q PyDrive\n",
        "from pydrive.auth import GoogleAuth\n",
        "from pydrive.drive import GoogleDrive\n",
        "from google.colab import auth\n",
        "from oauth2client.client import GoogleCredentials\n",
        "\n",
        "# Authenticate and create the PyDrive client.\n",
        "auth.authenticate_user()\n",
        "gauth = GoogleAuth()\n",
        "gauth.credentials = GoogleCredentials.get_application_default()\n",
        "drive = GoogleDrive(gauth)"
      ],
      "execution_count": 3,
      "outputs": [
        {
          "output_type": "stream",
          "text": [
            "\u001b[?25l\r\u001b[K     |▎                               | 10kB 18.0MB/s eta 0:00:01\r\u001b[K     |▋                               | 20kB 4.7MB/s eta 0:00:01\r\u001b[K     |█                               | 30kB 6.7MB/s eta 0:00:01\r\u001b[K     |█▎                              | 40kB 4.1MB/s eta 0:00:01\r\u001b[K     |█▋                              | 51kB 5.1MB/s eta 0:00:01\r\u001b[K     |██                              | 61kB 6.0MB/s eta 0:00:01\r\u001b[K     |██▎                             | 71kB 6.8MB/s eta 0:00:01\r\u001b[K     |██▋                             | 81kB 7.7MB/s eta 0:00:01\r\u001b[K     |███                             | 92kB 8.5MB/s eta 0:00:01\r\u001b[K     |███▎                            | 102kB 6.6MB/s eta 0:00:01\r\u001b[K     |███▋                            | 112kB 6.6MB/s eta 0:00:01\r\u001b[K     |████                            | 122kB 6.6MB/s eta 0:00:01\r\u001b[K     |████▎                           | 133kB 6.6MB/s eta 0:00:01\r\u001b[K     |████▋                           | 143kB 6.6MB/s eta 0:00:01\r\u001b[K     |█████                           | 153kB 6.6MB/s eta 0:00:01\r\u001b[K     |█████▎                          | 163kB 6.6MB/s eta 0:00:01\r\u001b[K     |█████▋                          | 174kB 6.6MB/s eta 0:00:01\r\u001b[K     |██████                          | 184kB 6.6MB/s eta 0:00:01\r\u001b[K     |██████▎                         | 194kB 6.6MB/s eta 0:00:01\r\u001b[K     |██████▋                         | 204kB 6.6MB/s eta 0:00:01\r\u001b[K     |███████                         | 215kB 6.6MB/s eta 0:00:01\r\u001b[K     |███████▎                        | 225kB 6.6MB/s eta 0:00:01\r\u001b[K     |███████▋                        | 235kB 6.6MB/s eta 0:00:01\r\u001b[K     |████████                        | 245kB 6.6MB/s eta 0:00:01\r\u001b[K     |████████▎                       | 256kB 6.6MB/s eta 0:00:01\r\u001b[K     |████████▋                       | 266kB 6.6MB/s eta 0:00:01\r\u001b[K     |█████████                       | 276kB 6.6MB/s eta 0:00:01\r\u001b[K     |█████████▎                      | 286kB 6.6MB/s eta 0:00:01\r\u001b[K     |█████████▋                      | 296kB 6.6MB/s eta 0:00:01\r\u001b[K     |██████████                      | 307kB 6.6MB/s eta 0:00:01\r\u001b[K     |██████████▎                     | 317kB 6.6MB/s eta 0:00:01\r\u001b[K     |██████████▋                     | 327kB 6.6MB/s eta 0:00:01\r\u001b[K     |███████████                     | 337kB 6.6MB/s eta 0:00:01\r\u001b[K     |███████████▎                    | 348kB 6.6MB/s eta 0:00:01\r\u001b[K     |███████████▋                    | 358kB 6.6MB/s eta 0:00:01\r\u001b[K     |████████████                    | 368kB 6.6MB/s eta 0:00:01\r\u001b[K     |████████████▎                   | 378kB 6.6MB/s eta 0:00:01\r\u001b[K     |████████████▋                   | 389kB 6.6MB/s eta 0:00:01\r\u001b[K     |█████████████                   | 399kB 6.6MB/s eta 0:00:01\r\u001b[K     |█████████████▎                  | 409kB 6.6MB/s eta 0:00:01\r\u001b[K     |█████████████▋                  | 419kB 6.6MB/s eta 0:00:01\r\u001b[K     |██████████████                  | 430kB 6.6MB/s eta 0:00:01\r\u001b[K     |██████████████▎                 | 440kB 6.6MB/s eta 0:00:01\r\u001b[K     |██████████████▋                 | 450kB 6.6MB/s eta 0:00:01\r\u001b[K     |███████████████                 | 460kB 6.6MB/s eta 0:00:01\r\u001b[K     |███████████████▎                | 471kB 6.6MB/s eta 0:00:01\r\u001b[K     |███████████████▋                | 481kB 6.6MB/s eta 0:00:01\r\u001b[K     |████████████████                | 491kB 6.6MB/s eta 0:00:01\r\u001b[K     |████████████████▎               | 501kB 6.6MB/s eta 0:00:01\r\u001b[K     |████████████████▋               | 512kB 6.6MB/s eta 0:00:01\r\u001b[K     |█████████████████               | 522kB 6.6MB/s eta 0:00:01\r\u001b[K     |█████████████████▎              | 532kB 6.6MB/s eta 0:00:01\r\u001b[K     |█████████████████▋              | 542kB 6.6MB/s eta 0:00:01\r\u001b[K     |██████████████████              | 552kB 6.6MB/s eta 0:00:01\r\u001b[K     |██████████████████▎             | 563kB 6.6MB/s eta 0:00:01\r\u001b[K     |██████████████████▋             | 573kB 6.6MB/s eta 0:00:01\r\u001b[K     |███████████████████             | 583kB 6.6MB/s eta 0:00:01\r\u001b[K     |███████████████████▎            | 593kB 6.6MB/s eta 0:00:01\r\u001b[K     |███████████████████▋            | 604kB 6.6MB/s eta 0:00:01\r\u001b[K     |████████████████████            | 614kB 6.6MB/s eta 0:00:01\r\u001b[K     |████████████████████▎           | 624kB 6.6MB/s eta 0:00:01\r\u001b[K     |████████████████████▋           | 634kB 6.6MB/s eta 0:00:01\r\u001b[K     |█████████████████████           | 645kB 6.6MB/s eta 0:00:01\r\u001b[K     |█████████████████████▎          | 655kB 6.6MB/s eta 0:00:01\r\u001b[K     |█████████████████████▋          | 665kB 6.6MB/s eta 0:00:01\r\u001b[K     |██████████████████████          | 675kB 6.6MB/s eta 0:00:01\r\u001b[K     |██████████████████████▎         | 686kB 6.6MB/s eta 0:00:01\r\u001b[K     |██████████████████████▋         | 696kB 6.6MB/s eta 0:00:01\r\u001b[K     |███████████████████████         | 706kB 6.6MB/s eta 0:00:01\r\u001b[K     |███████████████████████▎        | 716kB 6.6MB/s eta 0:00:01\r\u001b[K     |███████████████████████▋        | 727kB 6.6MB/s eta 0:00:01\r\u001b[K     |████████████████████████        | 737kB 6.6MB/s eta 0:00:01\r\u001b[K     |████████████████████████▎       | 747kB 6.6MB/s eta 0:00:01\r\u001b[K     |████████████████████████▋       | 757kB 6.6MB/s eta 0:00:01\r\u001b[K     |████████████████████████▉       | 768kB 6.6MB/s eta 0:00:01\r\u001b[K     |█████████████████████████▏      | 778kB 6.6MB/s eta 0:00:01\r\u001b[K     |█████████████████████████▌      | 788kB 6.6MB/s eta 0:00:01\r\u001b[K     |█████████████████████████▉      | 798kB 6.6MB/s eta 0:00:01\r\u001b[K     |██████████████████████████▏     | 808kB 6.6MB/s eta 0:00:01\r\u001b[K     |██████████████████████████▌     | 819kB 6.6MB/s eta 0:00:01\r\u001b[K     |██████████████████████████▉     | 829kB 6.6MB/s eta 0:00:01\r\u001b[K     |███████████████████████████▏    | 839kB 6.6MB/s eta 0:00:01\r\u001b[K     |███████████████████████████▌    | 849kB 6.6MB/s eta 0:00:01\r\u001b[K     |███████████████████████████▉    | 860kB 6.6MB/s eta 0:00:01\r\u001b[K     |████████████████████████████▏   | 870kB 6.6MB/s eta 0:00:01\r\u001b[K     |████████████████████████████▌   | 880kB 6.6MB/s eta 0:00:01\r\u001b[K     |████████████████████████████▉   | 890kB 6.6MB/s eta 0:00:01\r\u001b[K     |█████████████████████████████▏  | 901kB 6.6MB/s eta 0:00:01\r\u001b[K     |█████████████████████████████▌  | 911kB 6.6MB/s eta 0:00:01\r\u001b[K     |█████████████████████████████▉  | 921kB 6.6MB/s eta 0:00:01\r\u001b[K     |██████████████████████████████▏ | 931kB 6.6MB/s eta 0:00:01\r\u001b[K     |██████████████████████████████▌ | 942kB 6.6MB/s eta 0:00:01\r\u001b[K     |██████████████████████████████▉ | 952kB 6.6MB/s eta 0:00:01\r\u001b[K     |███████████████████████████████▏| 962kB 6.6MB/s eta 0:00:01\r\u001b[K     |███████████████████████████████▌| 972kB 6.6MB/s eta 0:00:01\r\u001b[K     |███████████████████████████████▉| 983kB 6.6MB/s eta 0:00:01\r\u001b[K     |████████████████████████████████| 993kB 6.6MB/s \n",
            "\u001b[?25h  Building wheel for PyDrive (setup.py) ... \u001b[?25l\u001b[?25hdone\n"
          ],
          "name": "stdout"
        }
      ]
    },
    {
      "cell_type": "code",
      "metadata": {
        "id": "_Q19pwnHlEoV",
        "colab_type": "code",
        "colab": {
          "base_uri": "https://localhost:8080/",
          "height": 108
        },
        "outputId": "4d72e103-8273-406c-9c2b-d9a8bd50843a"
      },
      "source": [
        "link = 'https://drive.google.com/open?id=1tL9tqvUsClU7pCH8d-nvjfzmVZOdBuCh' # The shareable link\n",
        "fluff, id = link.split('=')\n",
        "print (id) # Verify that you have everything after '='\n",
        "downloaded = drive.CreateFile({'id':id}) \n",
        "downloaded.GetContentFile('train.csv')  \n",
        "\n",
        "link = 'https://drive.google.com/open?id=165F9lJJJYSPB4yGWyQjDMWCudQHSyTxB' # The shareable link\n",
        "fluff, id = link.split('=')\n",
        "print (id) # Verify that you have everything after '='\n",
        "downloaded = drive.CreateFile({'id':id}) \n",
        "downloaded.GetContentFile('test.csv')  \n",
        "\n",
        "link = 'https://drive.google.com/open?id=1cXIyr5cdNvc3u36qCjIhtNjTPjv4lDJc' # The shareable link\n",
        "fluff, id = link.split('=')\n",
        "print (id) # Verify that you have everything after '='\n",
        "downloaded = drive.CreateFile({'id':id}) \n",
        "downloaded.GetContentFile('sample_submission.csv')  \n",
        "\n",
        "link = 'https://drive.google.com/open?id=1jym6T5H3-TLaz3m1XZ7tA_SIDNIok96d' # The shareable link\n",
        "fluff, id = link.split('=')\n",
        "print (id) # Verify that you have everything after '='\n",
        "downloaded = drive.CreateFile({'id':id}) \n",
        "downloaded.GetContentFile('item_data.csv')  \n",
        "\n",
        "link = 'https://drive.google.com/open?id=1PfXH8UF3jqqAbO-s3LsHtZy1MsFHglyC' # The shareable link\n",
        "fluff, id = link.split('=')\n",
        "print (id) # Verify that you have everything after '='\n",
        "downloaded = drive.CreateFile({'id':id}) \n",
        "downloaded.GetContentFile('view_log.csv')  "
      ],
      "execution_count": 4,
      "outputs": [
        {
          "output_type": "stream",
          "text": [
            "1tL9tqvUsClU7pCH8d-nvjfzmVZOdBuCh\n",
            "165F9lJJJYSPB4yGWyQjDMWCudQHSyTxB\n",
            "1cXIyr5cdNvc3u36qCjIhtNjTPjv4lDJc\n",
            "1jym6T5H3-TLaz3m1XZ7tA_SIDNIok96d\n",
            "1PfXH8UF3jqqAbO-s3LsHtZy1MsFHglyC\n"
          ],
          "name": "stdout"
        }
      ]
    },
    {
      "cell_type": "code",
      "metadata": {
        "id": "GuYF6QkFnBXP",
        "colab_type": "code",
        "colab": {}
      },
      "source": [
        "train = pd.read_csv('/content/train.csv')\n",
        "test = pd.read_csv('/content/test.csv')\n",
        "item = pd.read_csv('/content/item_data.csv')\n",
        "log = pd.read_csv('/content/view_log.csv')"
      ],
      "execution_count": 0,
      "outputs": []
    },
    {
      "cell_type": "markdown",
      "metadata": {
        "id": "IiNm5JnHrbnp",
        "colab_type": "text"
      },
      "source": [
        "## Data Exploration"
      ]
    },
    {
      "cell_type": "code",
      "metadata": {
        "id": "w-936ke0oCGn",
        "colab_type": "code",
        "colab": {
          "base_uri": "https://localhost:8080/",
          "height": 138
        },
        "outputId": "930f91a9-abfc-4c01-e059-46a08d060810"
      },
      "source": [
        "train.head(3)"
      ],
      "execution_count": 8,
      "outputs": [
        {
          "output_type": "execute_result",
          "data": {
            "text/html": [
              "<div>\n",
              "<style scoped>\n",
              "    .dataframe tbody tr th:only-of-type {\n",
              "        vertical-align: middle;\n",
              "    }\n",
              "\n",
              "    .dataframe tbody tr th {\n",
              "        vertical-align: top;\n",
              "    }\n",
              "\n",
              "    .dataframe thead th {\n",
              "        text-align: right;\n",
              "    }\n",
              "</style>\n",
              "<table border=\"1\" class=\"dataframe\">\n",
              "  <thead>\n",
              "    <tr style=\"text-align: right;\">\n",
              "      <th></th>\n",
              "      <th>impression_id</th>\n",
              "      <th>impression_time</th>\n",
              "      <th>user_id</th>\n",
              "      <th>app_code</th>\n",
              "      <th>os_version</th>\n",
              "      <th>is_4G</th>\n",
              "      <th>is_click</th>\n",
              "    </tr>\n",
              "  </thead>\n",
              "  <tbody>\n",
              "    <tr>\n",
              "      <th>0</th>\n",
              "      <td>c4ca4238a0b923820dcc509a6f75849b</td>\n",
              "      <td>2018-11-15 00:00:00</td>\n",
              "      <td>87862</td>\n",
              "      <td>422</td>\n",
              "      <td>old</td>\n",
              "      <td>0</td>\n",
              "      <td>0</td>\n",
              "    </tr>\n",
              "    <tr>\n",
              "      <th>1</th>\n",
              "      <td>45c48cce2e2d7fbdea1afc51c7c6ad26</td>\n",
              "      <td>2018-11-15 00:01:00</td>\n",
              "      <td>63410</td>\n",
              "      <td>467</td>\n",
              "      <td>latest</td>\n",
              "      <td>1</td>\n",
              "      <td>1</td>\n",
              "    </tr>\n",
              "    <tr>\n",
              "      <th>2</th>\n",
              "      <td>70efdf2ec9b086079795c442636b55fb</td>\n",
              "      <td>2018-11-15 00:02:00</td>\n",
              "      <td>71748</td>\n",
              "      <td>259</td>\n",
              "      <td>intermediate</td>\n",
              "      <td>1</td>\n",
              "      <td>0</td>\n",
              "    </tr>\n",
              "  </tbody>\n",
              "</table>\n",
              "</div>"
            ],
            "text/plain": [
              "                      impression_id      impression_time  ...  is_4G  is_click\n",
              "0  c4ca4238a0b923820dcc509a6f75849b  2018-11-15 00:00:00  ...      0         0\n",
              "1  45c48cce2e2d7fbdea1afc51c7c6ad26  2018-11-15 00:01:00  ...      1         1\n",
              "2  70efdf2ec9b086079795c442636b55fb  2018-11-15 00:02:00  ...      1         0\n",
              "\n",
              "[3 rows x 7 columns]"
            ]
          },
          "metadata": {
            "tags": []
          },
          "execution_count": 8
        }
      ]
    },
    {
      "cell_type": "code",
      "metadata": {
        "id": "K9Kjd99yobW2",
        "colab_type": "code",
        "colab": {
          "base_uri": "https://localhost:8080/",
          "height": 138
        },
        "outputId": "b43c9a3a-8118-46b6-8fde-899f11e96b3d"
      },
      "source": [
        "log.head(3)"
      ],
      "execution_count": 9,
      "outputs": [
        {
          "output_type": "execute_result",
          "data": {
            "text/html": [
              "<div>\n",
              "<style scoped>\n",
              "    .dataframe tbody tr th:only-of-type {\n",
              "        vertical-align: middle;\n",
              "    }\n",
              "\n",
              "    .dataframe tbody tr th {\n",
              "        vertical-align: top;\n",
              "    }\n",
              "\n",
              "    .dataframe thead th {\n",
              "        text-align: right;\n",
              "    }\n",
              "</style>\n",
              "<table border=\"1\" class=\"dataframe\">\n",
              "  <thead>\n",
              "    <tr style=\"text-align: right;\">\n",
              "      <th></th>\n",
              "      <th>server_time</th>\n",
              "      <th>device_type</th>\n",
              "      <th>session_id</th>\n",
              "      <th>user_id</th>\n",
              "      <th>item_id</th>\n",
              "    </tr>\n",
              "  </thead>\n",
              "  <tbody>\n",
              "    <tr>\n",
              "      <th>0</th>\n",
              "      <td>2018-10-15 08:58:00</td>\n",
              "      <td>android</td>\n",
              "      <td>112333</td>\n",
              "      <td>4557</td>\n",
              "      <td>32970</td>\n",
              "    </tr>\n",
              "    <tr>\n",
              "      <th>1</th>\n",
              "      <td>2018-10-15 08:58:00</td>\n",
              "      <td>android</td>\n",
              "      <td>503590</td>\n",
              "      <td>74788</td>\n",
              "      <td>7640</td>\n",
              "    </tr>\n",
              "    <tr>\n",
              "      <th>2</th>\n",
              "      <td>2018-10-15 08:58:00</td>\n",
              "      <td>android</td>\n",
              "      <td>573960</td>\n",
              "      <td>23628</td>\n",
              "      <td>128855</td>\n",
              "    </tr>\n",
              "  </tbody>\n",
              "</table>\n",
              "</div>"
            ],
            "text/plain": [
              "           server_time device_type  session_id  user_id  item_id\n",
              "0  2018-10-15 08:58:00     android      112333     4557    32970\n",
              "1  2018-10-15 08:58:00     android      503590    74788     7640\n",
              "2  2018-10-15 08:58:00     android      573960    23628   128855"
            ]
          },
          "metadata": {
            "tags": []
          },
          "execution_count": 9
        }
      ]
    },
    {
      "cell_type": "code",
      "metadata": {
        "id": "CZCEFfTCrDje",
        "colab_type": "code",
        "colab": {
          "base_uri": "https://localhost:8080/",
          "height": 108
        },
        "outputId": "1311d960-5e7f-4710-a207-b8fefdb25711"
      },
      "source": [
        "item.head(2)"
      ],
      "execution_count": 10,
      "outputs": [
        {
          "output_type": "execute_result",
          "data": {
            "text/html": [
              "<div>\n",
              "<style scoped>\n",
              "    .dataframe tbody tr th:only-of-type {\n",
              "        vertical-align: middle;\n",
              "    }\n",
              "\n",
              "    .dataframe tbody tr th {\n",
              "        vertical-align: top;\n",
              "    }\n",
              "\n",
              "    .dataframe thead th {\n",
              "        text-align: right;\n",
              "    }\n",
              "</style>\n",
              "<table border=\"1\" class=\"dataframe\">\n",
              "  <thead>\n",
              "    <tr style=\"text-align: right;\">\n",
              "      <th></th>\n",
              "      <th>item_id</th>\n",
              "      <th>item_price</th>\n",
              "      <th>category_1</th>\n",
              "      <th>category_2</th>\n",
              "      <th>category_3</th>\n",
              "      <th>product_type</th>\n",
              "    </tr>\n",
              "  </thead>\n",
              "  <tbody>\n",
              "    <tr>\n",
              "      <th>0</th>\n",
              "      <td>26880</td>\n",
              "      <td>4602</td>\n",
              "      <td>11</td>\n",
              "      <td>35</td>\n",
              "      <td>20</td>\n",
              "      <td>3040</td>\n",
              "    </tr>\n",
              "    <tr>\n",
              "      <th>1</th>\n",
              "      <td>54939</td>\n",
              "      <td>3513</td>\n",
              "      <td>12</td>\n",
              "      <td>57</td>\n",
              "      <td>85</td>\n",
              "      <td>6822</td>\n",
              "    </tr>\n",
              "  </tbody>\n",
              "</table>\n",
              "</div>"
            ],
            "text/plain": [
              "   item_id  item_price  category_1  category_2  category_3  product_type\n",
              "0    26880        4602          11          35          20          3040\n",
              "1    54939        3513          12          57          85          6822"
            ]
          },
          "metadata": {
            "tags": []
          },
          "execution_count": 10
        }
      ]
    },
    {
      "cell_type": "code",
      "metadata": {
        "id": "Ni5ZvlK9rFGs",
        "colab_type": "code",
        "colab": {
          "base_uri": "https://localhost:8080/",
          "height": 145
        },
        "outputId": "f54befc6-52c1-4fcc-8af7-198304d3df99"
      },
      "source": [
        "print(\"shape of train data\",train.shape)\n",
        "print(\"===============================\")\n",
        "print(\"shape of log data\",log.shape)\n",
        "print(\"===============================\")\n",
        "print(\"shape of item data\",item.shape)\n",
        "print(\"===============================\")\n",
        "print(\"shape of train data\",test.shape)"
      ],
      "execution_count": 14,
      "outputs": [
        {
          "output_type": "stream",
          "text": [
            "shape of train data (237609, 7)\n",
            "===============================\n",
            "shape of log data (3118622, 5)\n",
            "===============================\n",
            "shape of item data (132761, 6)\n",
            "===============================\n",
            "shape of train data (90675, 6)\n"
          ],
          "name": "stdout"
        }
      ]
    },
    {
      "cell_type": "markdown",
      "metadata": {
        "id": "FA7u77Kmrq9l",
        "colab_type": "text"
      },
      "source": [
        "### Variable Types\n",
        "- impression_id : Id can be ignored (which ad is driving more clicks) -237609 unique ads\n",
        "- user_id : Id can be ignored (Is a repetitive users who isn't clicking for a particular item? or, is there any user who is always clicking but not buying an item?) - 74723 unique users\n",
        "- session_id : Id can be ignored\n",
        "- item_id : Id can be ignored (which item is getting more clicks?) - 126708 unique products\n",
        "- app_code : Categorical (490 categories) - publisher id (which publisher is driving more traffic?)\n",
        "\n",
        "-----------------------------------------------------------------------\n",
        "- impression_time : DateTime - Can be used for Day of week, Time of day analysis\n",
        "- os_version : Categorical (3 categories)\n",
        "- is_4G : Categorical (2 categories)\n",
        "- server_time : Timestamp of the log\n",
        "- device_type : Categorical (3 categories)\n",
        "- item_price : Continuous (Numerical)\n",
        "- category_1 : Categorical (17 categories)\n",
        "- category_2 : Categorical (79 categories)\n",
        "- category_3 : Categorical (335 categories)\n",
        "- product_type : Categorical (7959 categories)\n",
        "- is_click : Categorical (Target Variable)\n",
        "### Can be ignored\n",
        "- impression_id : Id can be ignored\n",
        "- user_id : Id can be ignored\n",
        "- session_id : Id can be ignored\n",
        "- item_id : Id can be ignored\n",
        "- app_code : Categorical (490 categories) - publisher id - It would have be better if publisher category was given rather than publisher id"
      ]
    },
    {
      "cell_type": "code",
      "metadata": {
        "id": "CKi9cqCjrk8c",
        "colab_type": "code",
        "colab": {
          "base_uri": "https://localhost:8080/",
          "height": 599
        },
        "outputId": "f4b1b941-aa0a-4fe1-ccb6-52942c1a9134"
      },
      "source": [
        "print(\"Number of categories in app_code\")\n",
        "print(train[\"app_code\"].nunique())\n",
        "print(\"==================================================================\")\n",
        "print(\"Number of categories in os_version\")\n",
        "print(train[\"os_version\"].nunique())\n",
        "print(\"==================================================================\")\n",
        "print(\"Number of categories in is_4G\")\n",
        "print(train[\"is_4G\"].nunique())\n",
        "print(\"==================================================================\")\n",
        "print(\"Number of categories in device_type\")\n",
        "print(log[\"device_type\"].nunique())\n",
        "print(\"==================================================================\")\n",
        "print(\"Number of categories in category_1\")\n",
        "print(item[\"category_1\"].nunique())\n",
        "print(\"==================================================================\")\n",
        "print(\"Number of categories in category_2\")\n",
        "print(item[\"category_2\"].nunique())\n",
        "print(\"==================================================================\")\n",
        "print(\"Number of categories in category_3\")\n",
        "print(item[\"category_3\"].nunique())\n",
        "print(\"==================================================================\")\n",
        "print(\"Number of categories in product_type\")\n",
        "print(item[\"product_type\"].nunique())\n",
        "print(\"==================================================================\")\n",
        "print(\"Number of categories in impression_id\")\n",
        "print(train[\"impression_id\"].nunique())\n",
        "print(\"==================================================================\")\n",
        "print(\"Number of categories in user_id\")\n",
        "print(train[\"user_id\"].nunique())\n",
        "print(\"==================================================================\")\n",
        "print(\"Number of categories in item_id\")\n",
        "print(log[\"item_id\"].nunique())"
      ],
      "execution_count": 15,
      "outputs": [
        {
          "output_type": "stream",
          "text": [
            "Number of categories in app_code\n",
            "490\n",
            "==================================================================\n",
            "Number of categories in os_version\n",
            "3\n",
            "==================================================================\n",
            "Number of categories in is_4G\n",
            "2\n",
            "==================================================================\n",
            "Number of categories in device_type\n",
            "3\n",
            "==================================================================\n",
            "Number of categories in category_1\n",
            "17\n",
            "==================================================================\n",
            "Number of categories in category_2\n",
            "79\n",
            "==================================================================\n",
            "Number of categories in category_3\n",
            "335\n",
            "==================================================================\n",
            "Number of categories in product_type\n",
            "7959\n",
            "==================================================================\n",
            "Number of categories in impression_id\n",
            "237609\n",
            "==================================================================\n",
            "Number of categories in user_id\n",
            "74723\n",
            "==================================================================\n",
            "Number of categories in item_id\n",
            "126708\n"
          ],
          "name": "stdout"
        }
      ]
    },
    {
      "cell_type": "code",
      "metadata": {
        "id": "a5pOutm2sWGQ",
        "colab_type": "code",
        "colab": {
          "base_uri": "https://localhost:8080/",
          "height": 163
        },
        "outputId": "2da7e439-049f-44a3-ee9e-b9240bc26805"
      },
      "source": [
        "print(\"Categories in os_version\")\n",
        "print(train[\"os_version\"].unique())\n",
        "print(\"==================================================================\")\n",
        "print(\"Categories in is_4G\")\n",
        "print(train[\"is_4G\"].unique())\n",
        "print(\"==================================================================\")\n",
        "print(\"Categories in device_type\")\n",
        "print(log[\"device_type\"].unique())"
      ],
      "execution_count": 16,
      "outputs": [
        {
          "output_type": "stream",
          "text": [
            "Categories in os_version\n",
            "['old' 'latest' 'intermediate']\n",
            "==================================================================\n",
            "Categories in is_4G\n",
            "[0 1]\n",
            "==================================================================\n",
            "Categories in device_type\n",
            "['android' 'iphone' 'web']\n"
          ],
          "name": "stdout"
        }
      ]
    },
    {
      "cell_type": "code",
      "metadata": {
        "id": "0HnWn9ZAsZ08",
        "colab_type": "code",
        "colab": {}
      },
      "source": [
        "## Casting the timestamp to date format\n",
        "train['impression_time'] = pd.to_datetime(train['impression_time'], format='%Y-%m-%d %H:%M:%S')\n",
        "test['impression_time'] = pd.to_datetime(test['impression_time'], format='%Y-%m-%d %H:%M:%S')\n",
        "\n",
        "log['server_time'] = pd.to_datetime(log['server_time'], format='%Y-%m-%d %H:%M:%S')"
      ],
      "execution_count": 0,
      "outputs": []
    },
    {
      "cell_type": "code",
      "metadata": {
        "id": "4_eyoTQAs5Mf",
        "colab_type": "code",
        "colab": {
          "base_uri": "https://localhost:8080/",
          "height": 72
        },
        "outputId": "d674ba4d-bcff-4044-b322-988d7873d1a5"
      },
      "source": [
        "print(\"Train data starts from: %r and ends till %r\" %(str(train.impression_time.min()),str(train.impression_time.max())))\n",
        "print(\"Test data starts from: %r and ends till %r\" %(str(test.impression_time.min()),str(test.impression_time.max())))\n",
        "\n",
        "print(\"View Log data starts from: %r and ends till %r\" %(str(log.server_time.min()),str(log.server_time.max())))"
      ],
      "execution_count": 25,
      "outputs": [
        {
          "output_type": "stream",
          "text": [
            "Train data starts from: '2018-11-15 00:00:00' and ends till '2018-12-13 07:43:00'\n",
            "Test data starts from: '2018-12-12 00:00:00' and ends till '2018-12-18 23:59:00'\n",
            "View Log data starts from: '2018-10-15 08:58:00' and ends till '2018-12-11 23:59:00'\n"
          ],
          "name": "stdout"
        }
      ]
    },
    {
      "cell_type": "markdown",
      "metadata": {
        "id": "BKzWXg3cy1rR",
        "colab_type": "text"
      },
      "source": [
        "### Missing Values"
      ]
    },
    {
      "cell_type": "code",
      "metadata": {
        "id": "WNAABIWEul9x",
        "colab_type": "code",
        "colab": {
          "base_uri": "https://localhost:8080/",
          "height": 654
        },
        "outputId": "53d9767d-e7cd-44ce-9dc9-9739e54182d8"
      },
      "source": [
        "print(\"Missing Values in Train Dataset\")\n",
        "print(train.isna().sum())\n",
        "print(\"==================================================================\")\n",
        "print(\"Missing Values in Log Dataset\")\n",
        "print(log.isna().sum())\n",
        "print(\"==================================================================\")\n",
        "print(\"Missing Values in Item Dataset\")\n",
        "print(item.isna().sum())\n",
        "print(\"==================================================================\")\n",
        "print(\"Missing Values in Test Dataset\")\n",
        "print(test.isna().sum())"
      ],
      "execution_count": 26,
      "outputs": [
        {
          "output_type": "stream",
          "text": [
            "Missing Values in Train Dataset\n",
            "impression_id      0\n",
            "impression_time    0\n",
            "user_id            0\n",
            "app_code           0\n",
            "os_version         0\n",
            "is_4G              0\n",
            "is_click           0\n",
            "dtype: int64\n",
            "==================================================================\n",
            "Missing Values in Log Dataset\n",
            "server_time    0\n",
            "device_type    0\n",
            "session_id     0\n",
            "user_id        0\n",
            "item_id        0\n",
            "dtype: int64\n",
            "==================================================================\n",
            "Missing Values in Item Dataset\n",
            "item_id         0\n",
            "item_price      0\n",
            "category_1      0\n",
            "category_2      0\n",
            "category_3      0\n",
            "product_type    0\n",
            "dtype: int64\n",
            "==================================================================\n",
            "Missing Values in Test Dataset\n",
            "impression_id      0\n",
            "impression_time    0\n",
            "user_id            0\n",
            "app_code           0\n",
            "os_version         0\n",
            "is_4G              0\n",
            "dtype: int64\n"
          ],
          "name": "stdout"
        }
      ]
    },
    {
      "cell_type": "markdown",
      "metadata": {
        "id": "NknWQjTh0Tf3",
        "colab_type": "text"
      },
      "source": [
        "### Target Variable"
      ]
    },
    {
      "cell_type": "code",
      "metadata": {
        "id": "WGdenXR00THT",
        "colab_type": "code",
        "colab": {}
      },
      "source": [
        "# Extract target variable from train set\n",
        "label = train['is_click']"
      ],
      "execution_count": 0,
      "outputs": []
    },
    {
      "cell_type": "code",
      "metadata": {
        "id": "0y8rtgHz0W7e",
        "colab_type": "code",
        "colab": {
          "base_uri": "https://localhost:8080/",
          "height": 35
        },
        "outputId": "7ef18972-1925-4dc7-dd6a-29b4abd29d89"
      },
      "source": [
        "# Check for unique values\n",
        "label.unique()"
      ],
      "execution_count": 28,
      "outputs": [
        {
          "output_type": "execute_result",
          "data": {
            "text/plain": [
              "array([0, 1])"
            ]
          },
          "metadata": {
            "tags": []
          },
          "execution_count": 28
        }
      ]
    },
    {
      "cell_type": "code",
      "metadata": {
        "id": "JPNaCAwS0YCF",
        "colab_type": "code",
        "colab": {
          "base_uri": "https://localhost:8080/",
          "height": 255
        },
        "outputId": "7ff08dbf-c2fa-4cec-f879-06e674fbd501"
      },
      "source": [
        "# Pie Plot to Visualise the Target Variable\n",
        "label.value_counts().plot.pie(autopct='%1.2f%%')\n",
        "plt.axis('equal')\n",
        "plt.show()"
      ],
      "execution_count": 29,
      "outputs": [
        {
          "output_type": "display_data",
          "data": {
            "image/png": "[encoded data removed]",
            "text/plain": [
              "<Figure size 432x288 with 1 Axes>"
            ]
          },
          "metadata": {
            "tags": []
          }
        }
      ]
    },
    {
      "cell_type": "markdown",
      "metadata": {
        "id": "ATSMJPBL0dZW",
        "colab_type": "text"
      },
      "source": [
        "- In the train dataset only 4.57% of the impressions were clicked"
      ]
    },
    {
      "cell_type": "code",
      "metadata": {
        "id": "SOh7AACP0eLC",
        "colab_type": "code",
        "colab": {
          "base_uri": "https://localhost:8080/",
          "height": 1000
        },
        "outputId": "f1e7fbe0-c730-4f96-ea24-f1ae7f083074"
      },
      "source": [
        "train[train.user_id == 63410]"
      ],
      "execution_count": 31,
      "outputs": [
        {
          "output_type": "execute_result",
          "data": {
            "text/html": [
              "<div>\n",
              "<style scoped>\n",
              "    .dataframe tbody tr th:only-of-type {\n",
              "        vertical-align: middle;\n",
              "    }\n",
              "\n",
              "    .dataframe tbody tr th {\n",
              "        vertical-align: top;\n",
              "    }\n",
              "\n",
              "    .dataframe thead th {\n",
              "        text-align: right;\n",
              "    }\n",
              "</style>\n",
              "<table border=\"1\" class=\"dataframe\">\n",
              "  <thead>\n",
              "    <tr style=\"text-align: right;\">\n",
              "      <th></th>\n",
              "      <th>impression_id</th>\n",
              "      <th>impression_time</th>\n",
              "      <th>user_id</th>\n",
              "      <th>app_code</th>\n",
              "      <th>os_version</th>\n",
              "      <th>is_4G</th>\n",
              "      <th>is_click</th>\n",
              "    </tr>\n",
              "  </thead>\n",
              "  <tbody>\n",
              "    <tr>\n",
              "      <th>1</th>\n",
              "      <td>45c48cce2e2d7fbdea1afc51c7c6ad26</td>\n",
              "      <td>2018-11-15 00:01:00</td>\n",
              "      <td>63410</td>\n",
              "      <td>467</td>\n",
              "      <td>latest</td>\n",
              "      <td>1</td>\n",
              "      <td>1</td>\n",
              "    </tr>\n",
              "    <tr>\n",
              "      <th>4635</th>\n",
              "      <td>6b18886bc278247582704943f5c66eb9</td>\n",
              "      <td>2018-11-16 16:31:00</td>\n",
              "      <td>63410</td>\n",
              "      <td>467</td>\n",
              "      <td>latest</td>\n",
              "      <td>1</td>\n",
              "      <td>0</td>\n",
              "    </tr>\n",
              "    <tr>\n",
              "      <th>6088</th>\n",
              "      <td>cbd7fb1bba4de3486f76147a75f3ec89</td>\n",
              "      <td>2018-11-16 18:14:00</td>\n",
              "      <td>63410</td>\n",
              "      <td>467</td>\n",
              "      <td>latest</td>\n",
              "      <td>1</td>\n",
              "      <td>0</td>\n",
              "    </tr>\n",
              "    <tr>\n",
              "      <th>8851</th>\n",
              "      <td>0b6cf75f58aca50278bdcfc9c46576f4</td>\n",
              "      <td>2018-11-18 08:09:00</td>\n",
              "      <td>63410</td>\n",
              "      <td>467</td>\n",
              "      <td>latest</td>\n",
              "      <td>1</td>\n",
              "      <td>0</td>\n",
              "    </tr>\n",
              "    <tr>\n",
              "      <th>12204</th>\n",
              "      <td>9fd93cfddc3568482b5eb057efe06f16</td>\n",
              "      <td>2018-11-17 01:54:00</td>\n",
              "      <td>63410</td>\n",
              "      <td>467</td>\n",
              "      <td>latest</td>\n",
              "      <td>1</td>\n",
              "      <td>0</td>\n",
              "    </tr>\n",
              "    <tr>\n",
              "      <th>13964</th>\n",
              "      <td>5c7368d5679563a902701bf8b46575fc</td>\n",
              "      <td>2018-11-18 07:48:00</td>\n",
              "      <td>63410</td>\n",
              "      <td>283</td>\n",
              "      <td>latest</td>\n",
              "      <td>1</td>\n",
              "      <td>0</td>\n",
              "    </tr>\n",
              "    <tr>\n",
              "      <th>14779</th>\n",
              "      <td>c86027cb65669a6bec290bd22c969f2d</td>\n",
              "      <td>2018-11-19 02:04:00</td>\n",
              "      <td>63410</td>\n",
              "      <td>467</td>\n",
              "      <td>latest</td>\n",
              "      <td>1</td>\n",
              "      <td>0</td>\n",
              "    </tr>\n",
              "    <tr>\n",
              "      <th>19776</th>\n",
              "      <td>f0e52b27a7a5d6a1a87373dffa53dbe5</td>\n",
              "      <td>2018-11-15 00:56:00</td>\n",
              "      <td>63410</td>\n",
              "      <td>467</td>\n",
              "      <td>latest</td>\n",
              "      <td>1</td>\n",
              "      <td>0</td>\n",
              "    </tr>\n",
              "    <tr>\n",
              "      <th>21732</th>\n",
              "      <td>9a9fdbd56eb7c442646ab01c6bb3a70f</td>\n",
              "      <td>2018-11-20 09:08:00</td>\n",
              "      <td>63410</td>\n",
              "      <td>467</td>\n",
              "      <td>latest</td>\n",
              "      <td>1</td>\n",
              "      <td>0</td>\n",
              "    </tr>\n",
              "    <tr>\n",
              "      <th>26203</th>\n",
              "      <td>5e1982541fb01c50b6509e8ad3b5221c</td>\n",
              "      <td>2018-11-21 00:25:00</td>\n",
              "      <td>63410</td>\n",
              "      <td>467</td>\n",
              "      <td>latest</td>\n",
              "      <td>1</td>\n",
              "      <td>0</td>\n",
              "    </tr>\n",
              "    <tr>\n",
              "      <th>29329</th>\n",
              "      <td>339e2f61ba171de04b12646bb30b329b</td>\n",
              "      <td>2018-11-17 00:02:00</td>\n",
              "      <td>63410</td>\n",
              "      <td>467</td>\n",
              "      <td>latest</td>\n",
              "      <td>1</td>\n",
              "      <td>0</td>\n",
              "    </tr>\n",
              "    <tr>\n",
              "      <th>41995</th>\n",
              "      <td>0b9dcc39ddecd3359566b59d3c9a6b9c</td>\n",
              "      <td>2018-11-19 02:19:00</td>\n",
              "      <td>63410</td>\n",
              "      <td>283</td>\n",
              "      <td>latest</td>\n",
              "      <td>1</td>\n",
              "      <td>0</td>\n",
              "    </tr>\n",
              "    <tr>\n",
              "      <th>43076</th>\n",
              "      <td>924c0bc795d3cdff495c02220df23ae7</td>\n",
              "      <td>2018-11-23 02:22:00</td>\n",
              "      <td>63410</td>\n",
              "      <td>467</td>\n",
              "      <td>latest</td>\n",
              "      <td>1</td>\n",
              "      <td>0</td>\n",
              "    </tr>\n",
              "    <tr>\n",
              "      <th>48172</th>\n",
              "      <td>b70bad7669d7bbd1802342484dcad930</td>\n",
              "      <td>2018-11-20 10:01:00</td>\n",
              "      <td>63410</td>\n",
              "      <td>467</td>\n",
              "      <td>latest</td>\n",
              "      <td>1</td>\n",
              "      <td>0</td>\n",
              "    </tr>\n",
              "    <tr>\n",
              "      <th>51635</th>\n",
              "      <td>5867a6d760feb3565835e7287ca18469</td>\n",
              "      <td>2018-11-21 01:44:00</td>\n",
              "      <td>63410</td>\n",
              "      <td>467</td>\n",
              "      <td>latest</td>\n",
              "      <td>1</td>\n",
              "      <td>0</td>\n",
              "    </tr>\n",
              "    <tr>\n",
              "      <th>60307</th>\n",
              "      <td>3a51c0cc61bfaa0e84c4cc413c31134b</td>\n",
              "      <td>2018-11-26 01:52:00</td>\n",
              "      <td>63410</td>\n",
              "      <td>467</td>\n",
              "      <td>latest</td>\n",
              "      <td>1</td>\n",
              "      <td>0</td>\n",
              "    </tr>\n",
              "    <tr>\n",
              "      <th>61644</th>\n",
              "      <td>a7218790a88ae62c27ee5cf5e2b2947d</td>\n",
              "      <td>2018-11-25 09:32:00</td>\n",
              "      <td>63410</td>\n",
              "      <td>467</td>\n",
              "      <td>latest</td>\n",
              "      <td>1</td>\n",
              "      <td>0</td>\n",
              "    </tr>\n",
              "    <tr>\n",
              "      <th>68419</th>\n",
              "      <td>16f42bc674b157e63a78a75a5b449c90</td>\n",
              "      <td>2018-11-27 02:54:00</td>\n",
              "      <td>63410</td>\n",
              "      <td>283</td>\n",
              "      <td>latest</td>\n",
              "      <td>1</td>\n",
              "      <td>0</td>\n",
              "    </tr>\n",
              "    <tr>\n",
              "      <th>75689</th>\n",
              "      <td>2cd16a1c4acae58f5e6dab146488b38d</td>\n",
              "      <td>2018-11-22 02:02:00</td>\n",
              "      <td>63410</td>\n",
              "      <td>283</td>\n",
              "      <td>latest</td>\n",
              "      <td>1</td>\n",
              "      <td>0</td>\n",
              "    </tr>\n",
              "    <tr>\n",
              "      <th>79911</th>\n",
              "      <td>08aaceed2bb9844c671a0f9f2c4da8da</td>\n",
              "      <td>2018-11-22 02:08:00</td>\n",
              "      <td>63410</td>\n",
              "      <td>467</td>\n",
              "      <td>latest</td>\n",
              "      <td>1</td>\n",
              "      <td>0</td>\n",
              "    </tr>\n",
              "    <tr>\n",
              "      <th>89317</th>\n",
              "      <td>1148ae3d8462cddf5099b0abe482eaa2</td>\n",
              "      <td>2018-11-24 05:14:00</td>\n",
              "      <td>63410</td>\n",
              "      <td>467</td>\n",
              "      <td>latest</td>\n",
              "      <td>1</td>\n",
              "      <td>1</td>\n",
              "    </tr>\n",
              "    <tr>\n",
              "      <th>89318</th>\n",
              "      <td>e7e21dd70c4c390ccdfb80035162bd54</td>\n",
              "      <td>2018-11-24 05:28:00</td>\n",
              "      <td>63410</td>\n",
              "      <td>467</td>\n",
              "      <td>latest</td>\n",
              "      <td>1</td>\n",
              "      <td>1</td>\n",
              "    </tr>\n",
              "    <tr>\n",
              "      <th>96296</th>\n",
              "      <td>a6fbd1e24f7767cb48b9ec532d396d52</td>\n",
              "      <td>2018-11-25 02:06:00</td>\n",
              "      <td>63410</td>\n",
              "      <td>467</td>\n",
              "      <td>latest</td>\n",
              "      <td>1</td>\n",
              "      <td>0</td>\n",
              "    </tr>\n",
              "    <tr>\n",
              "      <th>97566</th>\n",
              "      <td>c9514b2f4933a409cdc480511ef9137b</td>\n",
              "      <td>2018-11-29 01:52:00</td>\n",
              "      <td>63410</td>\n",
              "      <td>467</td>\n",
              "      <td>latest</td>\n",
              "      <td>1</td>\n",
              "      <td>0</td>\n",
              "    </tr>\n",
              "    <tr>\n",
              "      <th>101266</th>\n",
              "      <td>6e2253d472803d93d15023a5adacbcc4</td>\n",
              "      <td>2018-11-26 00:42:00</td>\n",
              "      <td>63410</td>\n",
              "      <td>467</td>\n",
              "      <td>latest</td>\n",
              "      <td>1</td>\n",
              "      <td>0</td>\n",
              "    </tr>\n",
              "    <tr>\n",
              "      <th>105647</th>\n",
              "      <td>92b5c00adaf3a6ba5dfd7288f7611470</td>\n",
              "      <td>2018-11-30 09:00:00</td>\n",
              "      <td>63410</td>\n",
              "      <td>467</td>\n",
              "      <td>latest</td>\n",
              "      <td>1</td>\n",
              "      <td>0</td>\n",
              "    </tr>\n",
              "    <tr>\n",
              "      <th>106826</th>\n",
              "      <td>6558c7e9646d26750d8cff3100f641a5</td>\n",
              "      <td>2018-11-27 02:48:00</td>\n",
              "      <td>63410</td>\n",
              "      <td>467</td>\n",
              "      <td>latest</td>\n",
              "      <td>1</td>\n",
              "      <td>0</td>\n",
              "    </tr>\n",
              "    <tr>\n",
              "      <th>122872</th>\n",
              "      <td>b1c33690ad8070f6a23ed9d9828277df</td>\n",
              "      <td>2018-11-29 01:23:00</td>\n",
              "      <td>63410</td>\n",
              "      <td>467</td>\n",
              "      <td>latest</td>\n",
              "      <td>1</td>\n",
              "      <td>0</td>\n",
              "    </tr>\n",
              "    <tr>\n",
              "      <th>123931</th>\n",
              "      <td>3a6430ccda63161354c5c81e538e7196</td>\n",
              "      <td>2018-12-01 07:16:00</td>\n",
              "      <td>63410</td>\n",
              "      <td>467</td>\n",
              "      <td>latest</td>\n",
              "      <td>1</td>\n",
              "      <td>0</td>\n",
              "    </tr>\n",
              "    <tr>\n",
              "      <th>146372</th>\n",
              "      <td>f5bbba34889ade1e48dc9604e6e11ea4</td>\n",
              "      <td>2018-11-30 09:55:00</td>\n",
              "      <td>63410</td>\n",
              "      <td>467</td>\n",
              "      <td>latest</td>\n",
              "      <td>1</td>\n",
              "      <td>0</td>\n",
              "    </tr>\n",
              "    <tr>\n",
              "      <th>146755</th>\n",
              "      <td>d44e65b8db1db2b7e74dd5ccd4ab0ee2</td>\n",
              "      <td>2018-12-04 00:25:00</td>\n",
              "      <td>63410</td>\n",
              "      <td>467</td>\n",
              "      <td>latest</td>\n",
              "      <td>1</td>\n",
              "      <td>0</td>\n",
              "    </tr>\n",
              "    <tr>\n",
              "      <th>153892</th>\n",
              "      <td>53bd3349927f8fbe2644388ff7cf4db7</td>\n",
              "      <td>2018-12-01 07:44:00</td>\n",
              "      <td>63410</td>\n",
              "      <td>467</td>\n",
              "      <td>latest</td>\n",
              "      <td>1</td>\n",
              "      <td>0</td>\n",
              "    </tr>\n",
              "    <tr>\n",
              "      <th>163434</th>\n",
              "      <td>bd76785b649c832f942bc8c88795a64f</td>\n",
              "      <td>2018-12-02 09:26:00</td>\n",
              "      <td>63410</td>\n",
              "      <td>283</td>\n",
              "      <td>latest</td>\n",
              "      <td>1</td>\n",
              "      <td>0</td>\n",
              "    </tr>\n",
              "    <tr>\n",
              "      <th>164979</th>\n",
              "      <td>24db5182613649dbf29e0546a8cddbb4</td>\n",
              "      <td>2018-12-05 07:21:00</td>\n",
              "      <td>63410</td>\n",
              "      <td>467</td>\n",
              "      <td>latest</td>\n",
              "      <td>1</td>\n",
              "      <td>1</td>\n",
              "    </tr>\n",
              "    <tr>\n",
              "      <th>166311</th>\n",
              "      <td>dd694327fc4abb8c7b944580a53a5fda</td>\n",
              "      <td>2018-12-02 09:20:00</td>\n",
              "      <td>63410</td>\n",
              "      <td>467</td>\n",
              "      <td>latest</td>\n",
              "      <td>1</td>\n",
              "      <td>0</td>\n",
              "    </tr>\n",
              "    <tr>\n",
              "      <th>173240</th>\n",
              "      <td>42a8a644bd49133802bef5c6a346337f</td>\n",
              "      <td>2018-12-03 00:50:00</td>\n",
              "      <td>63410</td>\n",
              "      <td>467</td>\n",
              "      <td>latest</td>\n",
              "      <td>1</td>\n",
              "      <td>0</td>\n",
              "    </tr>\n",
              "    <tr>\n",
              "      <th>177531</th>\n",
              "      <td>89d43089fcad63a480bbd6ce1b6a0d25</td>\n",
              "      <td>2018-12-03 07:05:00</td>\n",
              "      <td>63410</td>\n",
              "      <td>467</td>\n",
              "      <td>latest</td>\n",
              "      <td>1</td>\n",
              "      <td>0</td>\n",
              "    </tr>\n",
              "    <tr>\n",
              "      <th>177605</th>\n",
              "      <td>2cd8c12465658faa5ffd946b4044c978</td>\n",
              "      <td>2018-12-06 00:29:00</td>\n",
              "      <td>63410</td>\n",
              "      <td>283</td>\n",
              "      <td>latest</td>\n",
              "      <td>1</td>\n",
              "      <td>0</td>\n",
              "    </tr>\n",
              "    <tr>\n",
              "      <th>181804</th>\n",
              "      <td>5d5e61132141c96ba66a2f696bd6b571</td>\n",
              "      <td>2018-12-04 01:36:00</td>\n",
              "      <td>63410</td>\n",
              "      <td>467</td>\n",
              "      <td>latest</td>\n",
              "      <td>1</td>\n",
              "      <td>0</td>\n",
              "    </tr>\n",
              "    <tr>\n",
              "      <th>182165</th>\n",
              "      <td>3f61d490ca3fef64cfc66269912b7948</td>\n",
              "      <td>2018-12-07 02:36:00</td>\n",
              "      <td>63410</td>\n",
              "      <td>467</td>\n",
              "      <td>latest</td>\n",
              "      <td>1</td>\n",
              "      <td>0</td>\n",
              "    </tr>\n",
              "    <tr>\n",
              "      <th>193085</th>\n",
              "      <td>59fd3b7fa8799ed583f1f5c43d128cdf</td>\n",
              "      <td>2018-12-05 08:14:00</td>\n",
              "      <td>63410</td>\n",
              "      <td>467</td>\n",
              "      <td>latest</td>\n",
              "      <td>1</td>\n",
              "      <td>0</td>\n",
              "    </tr>\n",
              "    <tr>\n",
              "      <th>202691</th>\n",
              "      <td>058beb51cf6d9fab0f2fb64ab2ed08e9</td>\n",
              "      <td>2018-12-10 05:48:00</td>\n",
              "      <td>63410</td>\n",
              "      <td>467</td>\n",
              "      <td>latest</td>\n",
              "      <td>1</td>\n",
              "      <td>0</td>\n",
              "    </tr>\n",
              "    <tr>\n",
              "      <th>202694</th>\n",
              "      <td>029c39d9a74b8f4a84d011080ac1bcf9</td>\n",
              "      <td>2018-12-10 06:24:00</td>\n",
              "      <td>63410</td>\n",
              "      <td>467</td>\n",
              "      <td>latest</td>\n",
              "      <td>1</td>\n",
              "      <td>0</td>\n",
              "    </tr>\n",
              "    <tr>\n",
              "      <th>203568</th>\n",
              "      <td>1cddceaf4f17802a73abb66c75161a93</td>\n",
              "      <td>2018-12-09 08:06:00</td>\n",
              "      <td>63410</td>\n",
              "      <td>467</td>\n",
              "      <td>latest</td>\n",
              "      <td>1</td>\n",
              "      <td>1</td>\n",
              "    </tr>\n",
              "    <tr>\n",
              "      <th>205378</th>\n",
              "      <td>2a6aecdb26ff3139eb9915bf900f684e</td>\n",
              "      <td>2018-12-06 00:16:00</td>\n",
              "      <td>63410</td>\n",
              "      <td>467</td>\n",
              "      <td>latest</td>\n",
              "      <td>1</td>\n",
              "      <td>0</td>\n",
              "    </tr>\n",
              "    <tr>\n",
              "      <th>214500</th>\n",
              "      <td>2e3398a596b98f2f4da19af9fbd2b3e6</td>\n",
              "      <td>2018-12-07 01:47:00</td>\n",
              "      <td>63410</td>\n",
              "      <td>283</td>\n",
              "      <td>latest</td>\n",
              "      <td>1</td>\n",
              "      <td>0</td>\n",
              "    </tr>\n",
              "    <tr>\n",
              "      <th>218110</th>\n",
              "      <td>f857683c51bf5df9a04ecd4becfd8795</td>\n",
              "      <td>2018-12-08 00:42:00</td>\n",
              "      <td>63410</td>\n",
              "      <td>283</td>\n",
              "      <td>latest</td>\n",
              "      <td>1</td>\n",
              "      <td>0</td>\n",
              "    </tr>\n",
              "    <tr>\n",
              "      <th>218560</th>\n",
              "      <td>577b0f83712f79dc656efa923793add2</td>\n",
              "      <td>2018-12-08 01:03:00</td>\n",
              "      <td>63410</td>\n",
              "      <td>467</td>\n",
              "      <td>latest</td>\n",
              "      <td>1</td>\n",
              "      <td>0</td>\n",
              "    </tr>\n",
              "    <tr>\n",
              "      <th>222674</th>\n",
              "      <td>576c3924109137e91d6e64861dae772a</td>\n",
              "      <td>2018-12-09 09:01:00</td>\n",
              "      <td>63410</td>\n",
              "      <td>467</td>\n",
              "      <td>latest</td>\n",
              "      <td>1</td>\n",
              "      <td>0</td>\n",
              "    </tr>\n",
              "    <tr>\n",
              "      <th>230041</th>\n",
              "      <td>faa1f2c174fec879680b9882edb58c6b</td>\n",
              "      <td>2018-12-11 00:00:00</td>\n",
              "      <td>63410</td>\n",
              "      <td>467</td>\n",
              "      <td>latest</td>\n",
              "      <td>1</td>\n",
              "      <td>0</td>\n",
              "    </tr>\n",
              "    <tr>\n",
              "      <th>230455</th>\n",
              "      <td>0433a4a0206cfd96de79f084301abbba</td>\n",
              "      <td>2018-12-11 09:58:00</td>\n",
              "      <td>63410</td>\n",
              "      <td>467</td>\n",
              "      <td>latest</td>\n",
              "      <td>1</td>\n",
              "      <td>0</td>\n",
              "    </tr>\n",
              "    <tr>\n",
              "      <th>234950</th>\n",
              "      <td>8efecd34653fb6e4143468033625d91d</td>\n",
              "      <td>2018-12-12 00:05:00</td>\n",
              "      <td>63410</td>\n",
              "      <td>283</td>\n",
              "      <td>latest</td>\n",
              "      <td>1</td>\n",
              "      <td>0</td>\n",
              "    </tr>\n",
              "  </tbody>\n",
              "</table>\n",
              "</div>"
            ],
            "text/plain": [
              "                           impression_id     impression_time  ...  is_4G  is_click\n",
              "1       45c48cce2e2d7fbdea1afc51c7c6ad26 2018-11-15 00:01:00  ...      1         1\n",
              "4635    6b18886bc278247582704943f5c66eb9 2018-11-16 16:31:00  ...      1         0\n",
              "6088    cbd7fb1bba4de3486f76147a75f3ec89 2018-11-16 18:14:00  ...      1         0\n",
              "8851    0b6cf75f58aca50278bdcfc9c46576f4 2018-11-18 08:09:00  ...      1         0\n",
              "12204   9fd93cfddc3568482b5eb057efe06f16 2018-11-17 01:54:00  ...      1         0\n",
              "13964   5c7368d5679563a902701bf8b46575fc 2018-11-18 07:48:00  ...      1         0\n",
              "14779   c86027cb65669a6bec290bd22c969f2d 2018-11-19 02:04:00  ...      1         0\n",
              "19776   f0e52b27a7a5d6a1a87373dffa53dbe5 2018-11-15 00:56:00  ...      1         0\n",
              "21732   9a9fdbd56eb7c442646ab01c6bb3a70f 2018-11-20 09:08:00  ...      1         0\n",
              "26203   5e1982541fb01c50b6509e8ad3b5221c 2018-11-21 00:25:00  ...      1         0\n",
              "29329   339e2f61ba171de04b12646bb30b329b 2018-11-17 00:02:00  ...      1         0\n",
              "41995   0b9dcc39ddecd3359566b59d3c9a6b9c 2018-11-19 02:19:00  ...      1         0\n",
              "43076   924c0bc795d3cdff495c02220df23ae7 2018-11-23 02:22:00  ...      1         0\n",
              "48172   b70bad7669d7bbd1802342484dcad930 2018-11-20 10:01:00  ...      1         0\n",
              "51635   5867a6d760feb3565835e7287ca18469 2018-11-21 01:44:00  ...      1         0\n",
              "60307   3a51c0cc61bfaa0e84c4cc413c31134b 2018-11-26 01:52:00  ...      1         0\n",
              "61644   a7218790a88ae62c27ee5cf5e2b2947d 2018-11-25 09:32:00  ...      1         0\n",
              "68419   16f42bc674b157e63a78a75a5b449c90 2018-11-27 02:54:00  ...      1         0\n",
              "75689   2cd16a1c4acae58f5e6dab146488b38d 2018-11-22 02:02:00  ...      1         0\n",
              "79911   08aaceed2bb9844c671a0f9f2c4da8da 2018-11-22 02:08:00  ...      1         0\n",
              "89317   1148ae3d8462cddf5099b0abe482eaa2 2018-11-24 05:14:00  ...      1         1\n",
              "89318   e7e21dd70c4c390ccdfb80035162bd54 2018-11-24 05:28:00  ...      1         1\n",
              "96296   a6fbd1e24f7767cb48b9ec532d396d52 2018-11-25 02:06:00  ...      1         0\n",
              "97566   c9514b2f4933a409cdc480511ef9137b 2018-11-29 01:52:00  ...      1         0\n",
              "101266  6e2253d472803d93d15023a5adacbcc4 2018-11-26 00:42:00  ...      1         0\n",
              "105647  92b5c00adaf3a6ba5dfd7288f7611470 2018-11-30 09:00:00  ...      1         0\n",
              "106826  6558c7e9646d26750d8cff3100f641a5 2018-11-27 02:48:00  ...      1         0\n",
              "122872  b1c33690ad8070f6a23ed9d9828277df 2018-11-29 01:23:00  ...      1         0\n",
              "123931  3a6430ccda63161354c5c81e538e7196 2018-12-01 07:16:00  ...      1         0\n",
              "146372  f5bbba34889ade1e48dc9604e6e11ea4 2018-11-30 09:55:00  ...      1         0\n",
              "146755  d44e65b8db1db2b7e74dd5ccd4ab0ee2 2018-12-04 00:25:00  ...      1         0\n",
              "153892  53bd3349927f8fbe2644388ff7cf4db7 2018-12-01 07:44:00  ...      1         0\n",
              "163434  bd76785b649c832f942bc8c88795a64f 2018-12-02 09:26:00  ...      1         0\n",
              "164979  24db5182613649dbf29e0546a8cddbb4 2018-12-05 07:21:00  ...      1         1\n",
              "166311  dd694327fc4abb8c7b944580a53a5fda 2018-12-02 09:20:00  ...      1         0\n",
              "173240  42a8a644bd49133802bef5c6a346337f 2018-12-03 00:50:00  ...      1         0\n",
              "177531  89d43089fcad63a480bbd6ce1b6a0d25 2018-12-03 07:05:00  ...      1         0\n",
              "177605  2cd8c12465658faa5ffd946b4044c978 2018-12-06 00:29:00  ...      1         0\n",
              "181804  5d5e61132141c96ba66a2f696bd6b571 2018-12-04 01:36:00  ...      1         0\n",
              "182165  3f61d490ca3fef64cfc66269912b7948 2018-12-07 02:36:00  ...      1         0\n",
              "193085  59fd3b7fa8799ed583f1f5c43d128cdf 2018-12-05 08:14:00  ...      1         0\n",
              "202691  058beb51cf6d9fab0f2fb64ab2ed08e9 2018-12-10 05:48:00  ...      1         0\n",
              "202694  029c39d9a74b8f4a84d011080ac1bcf9 2018-12-10 06:24:00  ...      1         0\n",
              "203568  1cddceaf4f17802a73abb66c75161a93 2018-12-09 08:06:00  ...      1         1\n",
              "205378  2a6aecdb26ff3139eb9915bf900f684e 2018-12-06 00:16:00  ...      1         0\n",
              "214500  2e3398a596b98f2f4da19af9fbd2b3e6 2018-12-07 01:47:00  ...      1         0\n",
              "218110  f857683c51bf5df9a04ecd4becfd8795 2018-12-08 00:42:00  ...      1         0\n",
              "218560  577b0f83712f79dc656efa923793add2 2018-12-08 01:03:00  ...      1         0\n",
              "222674  576c3924109137e91d6e64861dae772a 2018-12-09 09:01:00  ...      1         0\n",
              "230041  faa1f2c174fec879680b9882edb58c6b 2018-12-11 00:00:00  ...      1         0\n",
              "230455  0433a4a0206cfd96de79f084301abbba 2018-12-11 09:58:00  ...      1         0\n",
              "234950  8efecd34653fb6e4143468033625d91d 2018-12-12 00:05:00  ...      1         0\n",
              "\n",
              "[52 rows x 7 columns]"
            ]
          },
          "metadata": {
            "tags": []
          },
          "execution_count": 31
        }
      ]
    },
    {
      "cell_type": "code",
      "metadata": {
        "id": "SbLNv5bb2fJg",
        "colab_type": "code",
        "colab": {
          "base_uri": "https://localhost:8080/",
          "height": 408
        },
        "outputId": "8b220c91-17ef-4324-c61d-d186d0989189"
      },
      "source": [
        "log[log.user_id == 63410]"
      ],
      "execution_count": 33,
      "outputs": [
        {
          "output_type": "execute_result",
          "data": {
            "text/html": [
              "<div>\n",
              "<style scoped>\n",
              "    .dataframe tbody tr th:only-of-type {\n",
              "        vertical-align: middle;\n",
              "    }\n",
              "\n",
              "    .dataframe tbody tr th {\n",
              "        vertical-align: top;\n",
              "    }\n",
              "\n",
              "    .dataframe thead th {\n",
              "        text-align: right;\n",
              "    }\n",
              "</style>\n",
              "<table border=\"1\" class=\"dataframe\">\n",
              "  <thead>\n",
              "    <tr style=\"text-align: right;\">\n",
              "      <th></th>\n",
              "      <th>server_time</th>\n",
              "      <th>device_type</th>\n",
              "      <th>session_id</th>\n",
              "      <th>user_id</th>\n",
              "      <th>item_id</th>\n",
              "    </tr>\n",
              "  </thead>\n",
              "  <tbody>\n",
              "    <tr>\n",
              "      <th>284024</th>\n",
              "      <td>2018-10-21 06:13:00</td>\n",
              "      <td>android</td>\n",
              "      <td>356854</td>\n",
              "      <td>63410</td>\n",
              "      <td>43209</td>\n",
              "    </tr>\n",
              "    <tr>\n",
              "      <th>284028</th>\n",
              "      <td>2018-10-21 06:13:00</td>\n",
              "      <td>android</td>\n",
              "      <td>356854</td>\n",
              "      <td>63410</td>\n",
              "      <td>66370</td>\n",
              "    </tr>\n",
              "    <tr>\n",
              "      <th>309046</th>\n",
              "      <td>2018-10-21 17:01:00</td>\n",
              "      <td>android</td>\n",
              "      <td>345289</td>\n",
              "      <td>63410</td>\n",
              "      <td>43209</td>\n",
              "    </tr>\n",
              "    <tr>\n",
              "      <th>339224</th>\n",
              "      <td>2018-10-22 09:54:00</td>\n",
              "      <td>android</td>\n",
              "      <td>406658</td>\n",
              "      <td>63410</td>\n",
              "      <td>43209</td>\n",
              "    </tr>\n",
              "    <tr>\n",
              "      <th>449354</th>\n",
              "      <td>2018-10-24 11:14:00</td>\n",
              "      <td>android</td>\n",
              "      <td>15568</td>\n",
              "      <td>63410</td>\n",
              "      <td>71877</td>\n",
              "    </tr>\n",
              "    <tr>\n",
              "      <th>486317</th>\n",
              "      <td>2018-10-25 05:00:00</td>\n",
              "      <td>android</td>\n",
              "      <td>343558</td>\n",
              "      <td>63410</td>\n",
              "      <td>43209</td>\n",
              "    </tr>\n",
              "    <tr>\n",
              "      <th>486325</th>\n",
              "      <td>2018-10-25 05:03:00</td>\n",
              "      <td>android</td>\n",
              "      <td>343558</td>\n",
              "      <td>63410</td>\n",
              "      <td>43209</td>\n",
              "    </tr>\n",
              "    <tr>\n",
              "      <th>2115995</th>\n",
              "      <td>2018-11-24 05:29:00</td>\n",
              "      <td>android</td>\n",
              "      <td>983607</td>\n",
              "      <td>63410</td>\n",
              "      <td>97274</td>\n",
              "    </tr>\n",
              "    <tr>\n",
              "      <th>3028698</th>\n",
              "      <td>2018-12-10 19:48:00</td>\n",
              "      <td>android</td>\n",
              "      <td>135003</td>\n",
              "      <td>63410</td>\n",
              "      <td>109074</td>\n",
              "    </tr>\n",
              "    <tr>\n",
              "      <th>3028895</th>\n",
              "      <td>2018-12-10 19:51:00</td>\n",
              "      <td>android</td>\n",
              "      <td>135003</td>\n",
              "      <td>63410</td>\n",
              "      <td>58018</td>\n",
              "    </tr>\n",
              "    <tr>\n",
              "      <th>3029399</th>\n",
              "      <td>2018-12-10 19:59:00</td>\n",
              "      <td>android</td>\n",
              "      <td>135003</td>\n",
              "      <td>63410</td>\n",
              "      <td>109074</td>\n",
              "    </tr>\n",
              "    <tr>\n",
              "      <th>3029745</th>\n",
              "      <td>2018-12-10 20:03:00</td>\n",
              "      <td>android</td>\n",
              "      <td>135003</td>\n",
              "      <td>63410</td>\n",
              "      <td>22064</td>\n",
              "    </tr>\n",
              "  </tbody>\n",
              "</table>\n",
              "</div>"
            ],
            "text/plain": [
              "                server_time device_type  session_id  user_id  item_id\n",
              "284024  2018-10-21 06:13:00     android      356854    63410    43209\n",
              "284028  2018-10-21 06:13:00     android      356854    63410    66370\n",
              "309046  2018-10-21 17:01:00     android      345289    63410    43209\n",
              "339224  2018-10-22 09:54:00     android      406658    63410    43209\n",
              "449354  2018-10-24 11:14:00     android       15568    63410    71877\n",
              "486317  2018-10-25 05:00:00     android      343558    63410    43209\n",
              "486325  2018-10-25 05:03:00     android      343558    63410    43209\n",
              "2115995 2018-11-24 05:29:00     android      983607    63410    97274\n",
              "3028698 2018-12-10 19:48:00     android      135003    63410   109074\n",
              "3028895 2018-12-10 19:51:00     android      135003    63410    58018\n",
              "3029399 2018-12-10 19:59:00     android      135003    63410   109074\n",
              "3029745 2018-12-10 20:03:00     android      135003    63410    22064"
            ]
          },
          "metadata": {
            "tags": []
          },
          "execution_count": 33
        }
      ]
    },
    {
      "cell_type": "code",
      "metadata": {
        "id": "WXs1uMHE2aXD",
        "colab_type": "code",
        "colab": {}
      },
      "source": [
        ""
      ],
      "execution_count": 0,
      "outputs": []
    },
    {
      "cell_type": "code",
      "metadata": {
        "id": "NwDTobe20ZXc",
        "colab_type": "code",
        "colab": {}
      },
      "source": [
        ""
      ],
      "execution_count": 0,
      "outputs": []
    },
    {
      "cell_type": "code",
      "metadata": {
        "id": "cxqcFMivyzAl",
        "colab_type": "code",
        "colab": {}
      },
      "source": [
        ""
      ],
      "execution_count": 0,
      "outputs": []
    },
    {
      "cell_type": "code",
      "metadata": {
        "id": "NdI-e6dVt8RB",
        "colab_type": "code",
        "colab": {}
      },
      "source": [
        ""
      ],
      "execution_count": 0,
      "outputs": []
    },
    {
      "cell_type": "code",
      "metadata": {
        "id": "GKBvBUbRtrCx",
        "colab_type": "code",
        "colab": {}
      },
      "source": [
        ""
      ],
      "execution_count": 0,
      "outputs": []
    },
    {
      "cell_type": "code",
      "metadata": {
        "id": "8RIV-mbhs_j3",
        "colab_type": "code",
        "colab": {}
      },
      "source": [
        ""
      ],
      "execution_count": 0,
      "outputs": []
    },
    {
      "cell_type": "code",
      "metadata": {
        "id": "wQTvPm-ik_d8",
        "colab_type": "code",
        "colab": {}
      },
      "source": [
        ""
      ],
      "execution_count": 0,
      "outputs": []
    },
    {
      "cell_type": "code",
      "metadata": {
        "id": "kA4Q_ghwkYzR",
        "colab_type": "code",
        "colab": {}
      },
      "source": [
        ""
      ],
      "execution_count": 0,
      "outputs": []
    },
    {
      "cell_type": "code",
      "metadata": {
        "id": "7qZD5c7RkVpl",
        "colab_type": "code",
        "colab": {}
      },
      "source": [
        ""
      ],
      "execution_count": 0,
      "outputs": []
    },
    {
      "cell_type": "code",
      "metadata": {
        "id": "hZgfjGHjkMi2",
        "colab_type": "code",
        "colab": {}
      },
      "source": [
        ""
      ],
      "execution_count": 0,
      "outputs": []
    },
    {
      "cell_type": "code",
      "metadata": {
        "id": "9NH69_nJkFfE",
        "colab_type": "code",
        "colab": {}
      },
      "source": [
        ""
      ],
      "execution_count": 0,
      "outputs": []
    }
  ]
}